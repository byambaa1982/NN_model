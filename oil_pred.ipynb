{
 "cells": [
  {
   "cell_type": "markdown",
   "metadata": {},
   "source": [
    "#      ANN MODEL FOR PREDICTION OF BUBBLE POINT\n",
    "#                          PRESSURE OF CRUDE OILS"
   ]
  },
  {
   "cell_type": "code",
   "execution_count": null,
   "metadata": {},
   "outputs": [],
   "source": [
    "## ALL LIBRARIES USED HERE"
   ]
  },
  {
   "cell_type": "code",
   "execution_count": 1,
   "metadata": {},
   "outputs": [],
   "source": [
    "import tensorflow as tf\n",
    "\n",
    "from sklearn.model_selection import train_test_split\n",
    "from sklearn.preprocessing import StandardScaler\n",
    "from sklearn import metrics\n",
    "\n",
    "import matplotlib.pyplot as plt\n",
    "import seaborn as sns\n",
    "import matplotlib\n",
    "import matplotlib.pyplot as plt\n",
    "%matplotlib inline"
   ]
  },
  {
   "cell_type": "code",
   "execution_count": 2,
   "metadata": {},
   "outputs": [],
   "source": [
    "import pandas as pd"
   ]
  },
  {
   "cell_type": "code",
   "execution_count": 3,
   "metadata": {},
   "outputs": [],
   "source": [
    "# ---------------EXCEL DATA---------------"
   ]
  },
  {
   "cell_type": "code",
   "execution_count": 4,
   "metadata": {},
   "outputs": [],
   "source": [
    "data = pd.read_excel('Simulation Data (1).xlsx')"
   ]
  },
  {
   "cell_type": "code",
   "execution_count": 7,
   "metadata": {},
   "outputs": [
    {
     "data": {
      "text/html": [
       "<div>\n",
       "<style scoped>\n",
       "    .dataframe tbody tr th:only-of-type {\n",
       "        vertical-align: middle;\n",
       "    }\n",
       "\n",
       "    .dataframe tbody tr th {\n",
       "        vertical-align: top;\n",
       "    }\n",
       "\n",
       "    .dataframe thead th {\n",
       "        text-align: right;\n",
       "    }\n",
       "</style>\n",
       "<table border=\"1\" class=\"dataframe\">\n",
       "  <thead>\n",
       "    <tr style=\"text-align: right;\">\n",
       "      <th></th>\n",
       "      <th>GOR</th>\n",
       "      <th>Oil gravity</th>\n",
       "      <th>Gas gravity</th>\n",
       "      <th>T</th>\n",
       "      <th>Pb</th>\n",
       "      <th>Bob</th>\n",
       "    </tr>\n",
       "  </thead>\n",
       "  <tbody>\n",
       "    <tr>\n",
       "      <th>0</th>\n",
       "      <td>1507</td>\n",
       "      <td>0.951</td>\n",
       "      <td>39.3</td>\n",
       "      <td>225</td>\n",
       "      <td>3573.0</td>\n",
       "      <td>1.875</td>\n",
       "    </tr>\n",
       "    <tr>\n",
       "      <th>1</th>\n",
       "      <td>898</td>\n",
       "      <td>0.802</td>\n",
       "      <td>32.7</td>\n",
       "      <td>175</td>\n",
       "      <td>3571.0</td>\n",
       "      <td>1.471</td>\n",
       "    </tr>\n",
       "    <tr>\n",
       "      <th>2</th>\n",
       "      <td>898</td>\n",
       "      <td>0.802</td>\n",
       "      <td>32.7</td>\n",
       "      <td>150</td>\n",
       "      <td>3426.0</td>\n",
       "      <td>1.451</td>\n",
       "    </tr>\n",
       "    <tr>\n",
       "      <th>3</th>\n",
       "      <td>1579</td>\n",
       "      <td>0.930</td>\n",
       "      <td>42.8</td>\n",
       "      <td>235</td>\n",
       "      <td>3405.0</td>\n",
       "      <td>1.997</td>\n",
       "    </tr>\n",
       "    <tr>\n",
       "      <th>4</th>\n",
       "      <td>825</td>\n",
       "      <td>0.779</td>\n",
       "      <td>34.2</td>\n",
       "      <td>185</td>\n",
       "      <td>3354.0</td>\n",
       "      <td>1.431</td>\n",
       "    </tr>\n",
       "  </tbody>\n",
       "</table>\n",
       "</div>"
      ],
      "text/plain": [
       "    GOR  Oil gravity  Gas gravity    T      Pb    Bob\n",
       "0  1507        0.951         39.3  225  3573.0  1.875\n",
       "1   898        0.802         32.7  175  3571.0  1.471\n",
       "2   898        0.802         32.7  150  3426.0  1.451\n",
       "3  1579        0.930         42.8  235  3405.0  1.997\n",
       "4   825        0.779         34.2  185  3354.0  1.431"
      ]
     },
     "execution_count": 7,
     "metadata": {},
     "output_type": "execute_result"
    }
   ],
   "source": [
    "data.head()"
   ]
  },
  {
   "cell_type": "code",
   "execution_count": 1,
   "metadata": {},
   "outputs": [],
   "source": [
    "#----------------   SPLIT DATA FOR TRAIN AND TEST : Target is Pb ----------------"
   ]
  },
  {
   "cell_type": "code",
   "execution_count": 8,
   "metadata": {
    "scrolled": true
   },
   "outputs": [
    {
     "name": "stderr",
     "output_type": "stream",
     "text": [
      "/Users/enkhbat/miniconda3/lib/python3.6/site-packages/sklearn/preprocessing/data.py:645: DataConversionWarning: Data with input dtype int64, float64 were all converted to float64 by StandardScaler.\n",
      "  return self.partial_fit(X, y)\n",
      "/Users/enkhbat/miniconda3/lib/python3.6/site-packages/sklearn/base.py:464: DataConversionWarning: Data with input dtype int64, float64 were all converted to float64 by StandardScaler.\n",
      "  return self.fit(X, **fit_params).transform(X)\n",
      "/Users/enkhbat/miniconda3/lib/python3.6/site-packages/ipykernel_launcher.py:4: DataConversionWarning: Data with input dtype int64, float64 were all converted to float64 by StandardScaler.\n",
      "  after removing the cwd from sys.path.\n"
     ]
    }
   ],
   "source": [
    "X_train, X_test, y_train, y_test =train_test_split(data[['GOR', 'Oil gravity', 'Gas gravity', 'T']], data.Pb)\n",
    "ss=StandardScaler()\n",
    "X_train=ss.fit_transform(X_train)\n",
    "X_test=ss.transform(X_test)"
   ]
  },
  {
   "cell_type": "code",
   "execution_count": 9,
   "metadata": {},
   "outputs": [],
   "source": [
    "# reshape no matter how many col it became 1\n",
    "y_train=y_train.values.reshape(-1,1)\n",
    "y_test=y_test.values.reshape(-1,1)"
   ]
  },
  {
   "cell_type": "code",
   "execution_count": 10,
   "metadata": {},
   "outputs": [],
   "source": [
    "\n",
    "#-------------- Building NN model ------------------\n",
    "\n"
   ]
  },
  {
   "cell_type": "code",
   "execution_count": 11,
   "metadata": {},
   "outputs": [],
   "source": [
    "tf.reset_default_graph()\n",
    "\n",
    "X=tf.placeholder(dtype=tf.float32, shape=(None,4), name='X' )\n",
    "y=tf.placeholder(dtype=tf.float32, shape=(None,1), name='y' )\n",
    "\n",
    "# setup hidden layer. data, neuron act func name\n",
    "h1=tf.layers.dense(X,8, activation=tf.nn.relu, name='hidden1')\n",
    "\n",
    "# output layer\n",
    "\n",
    "output=tf.layers.dense(h1, 1, activation=None, name='output')\n",
    "\n",
    "loss=tf.losses.mean_squared_error(y, output)\n",
    "optimizer=tf.train.AdamOptimizer(.01)\n",
    "\n",
    "training_run=optimizer.minimize(loss)"
   ]
  },
  {
   "cell_type": "code",
   "execution_count": null,
   "metadata": {},
   "outputs": [],
   "source": [
    "#---------- ITERATED 50 EPOCH ----------------"
   ]
  },
  {
   "cell_type": "code",
   "execution_count": 12,
   "metadata": {},
   "outputs": [
    {
     "name": "stdout",
     "output_type": "stream",
     "text": [
      "epoch 0 train loss 4175242.8 test loss 5027713.0\n",
      "epoch 1 train loss 4174960.5 test loss 5027440.0\n",
      "epoch 2 train loss 4174674.5 test loss 5027165.0\n",
      "epoch 3 train loss 4174383.0 test loss 5026887.0\n",
      "epoch 4 train loss 4174085.5 test loss 5026606.5\n",
      "epoch 5 train loss 4173784.8 test loss 5026321.0\n",
      "epoch 6 train loss 4173478.2 test loss 5026031.5\n",
      "epoch 7 train loss 4173168.8 test loss 5025736.0\n",
      "epoch 8 train loss 4172853.8 test loss 5025436.0\n",
      "epoch 9 train loss 4172534.8 test loss 5025129.0\n",
      "epoch 10 train loss 4172211.5 test loss 5024818.0\n",
      "epoch 11 train loss 4171884.2 test loss 5024499.0\n",
      "epoch 12 train loss 4171552.2 test loss 5024173.0\n",
      "epoch 13 train loss 4171212.5 test loss 5023840.0\n",
      "epoch 14 train loss 4170868.8 test loss 5023498.0\n",
      "epoch 15 train loss 4170517.2 test loss 5023148.5\n",
      "epoch 16 train loss 4170159.8 test loss 5022790.0\n",
      "epoch 17 train loss 4169795.0 test loss 5022422.5\n",
      "epoch 18 train loss 4169424.5 test loss 5022046.5\n",
      "epoch 19 train loss 4169045.2 test loss 5021660.0\n",
      "epoch 20 train loss 4168659.0 test loss 5021266.0\n",
      "epoch 21 train loss 4168265.5 test loss 5020863.0\n",
      "epoch 22 train loss 4167862.5 test loss 5020450.0\n",
      "epoch 23 train loss 4167452.0 test loss 5020028.0\n",
      "epoch 24 train loss 4167031.2 test loss 5019596.0\n",
      "epoch 25 train loss 4166600.8 test loss 5019153.0\n",
      "epoch 26 train loss 4166160.5 test loss 5018699.5\n",
      "epoch 27 train loss 4165710.0 test loss 5018236.0\n",
      "epoch 28 train loss 4165249.8 test loss 5017761.5\n",
      "epoch 29 train loss 4164778.8 test loss 5017279.0\n",
      "epoch 30 train loss 4164297.8 test loss 5016785.5\n",
      "epoch 31 train loss 4163807.2 test loss 5016279.0\n",
      "epoch 32 train loss 4163304.8 test loss 5015759.0\n",
      "epoch 33 train loss 4162791.0 test loss 5015227.0\n",
      "epoch 34 train loss 4162264.0 test loss 5014680.5\n",
      "epoch 35 train loss 4161724.2 test loss 5014121.0\n",
      "epoch 36 train loss 4161172.2 test loss 5013548.0\n",
      "epoch 37 train loss 4160607.5 test loss 5012960.0\n",
      "epoch 38 train loss 4160030.2 test loss 5012358.0\n",
      "epoch 39 train loss 4159439.5 test loss 5011739.5\n",
      "epoch 40 train loss 4158836.2 test loss 5011105.0\n",
      "epoch 41 train loss 4158218.2 test loss 5010455.0\n",
      "epoch 42 train loss 4157587.0 test loss 5009790.0\n",
      "epoch 43 train loss 4156940.5 test loss 5009110.0\n",
      "epoch 44 train loss 4156275.2 test loss 5008413.5\n",
      "epoch 45 train loss 4155596.5 test loss 5007702.0\n",
      "epoch 46 train loss 4154903.2 test loss 5006974.5\n",
      "epoch 47 train loss 4154195.8 test loss 5006232.0\n",
      "epoch 48 train loss 4153472.8 test loss 5005472.0\n",
      "epoch 49 train loss 4152732.8 test loss 5004695.5\n"
     ]
    }
   ],
   "source": [
    "init = tf.global_variables_initializer()\n",
    "\n",
    "with tf.Session() as sess:\n",
    "    init.run()\n",
    "    \n",
    "    for epoch in range(50):\n",
    "        sess.run(training_run, feed_dict={X: X_train, y: y_train})\n",
    "        train_loss = sess.run(loss, feed_dict={X: X_train, y: y_train})\n",
    "        test_loss = sess.run(loss, feed_dict={X: X_test, y: y_test})\n",
    "        print('epoch', epoch, 'train loss', train_loss, 'test loss', test_loss)"
   ]
  },
  {
   "cell_type": "code",
   "execution_count": 13,
   "metadata": {},
   "outputs": [],
   "source": [
    "#-----------5000 epoch iteration ---------------"
   ]
  },
  {
   "cell_type": "code",
   "execution_count": 95,
   "metadata": {},
   "outputs": [],
   "source": [
    "init = tf.global_variables_initializer()\n",
    "\n",
    "train_errs = []\n",
    "test_errs = []\n",
    "with tf.Session() as sess:\n",
    "    init.run()\n",
    "    \n",
    "    for epoch in range(5000):\n",
    "        # training is here\n",
    "        sess.run(training_run, feed_dict={X: X_train, y: y_train})\n",
    "        \n",
    "        # Calculate train loss\n",
    "        train_loss = sess.run(loss, feed_dict={X: X_train, y: y_train})\n",
    "        train_errs.append(train_loss)\n",
    "        \n",
    "        # Calculate test loss\n",
    "        test_loss = sess.run(loss, feed_dict={X: X_test, y: y_test})\n",
    "        test_errs.append(test_loss)\n",
    "        \n",
    "        # Print losses\n",
    "        if epoch %10==0:\n",
    "            print('epoch', epoch, 'train loss', train_loss, 'test loss', test_loss)\n",
    "    pred = sess.run(output, feed_dict={X: X_test})"
   ]
  },
  {
   "cell_type": "code",
   "execution_count": 15,
   "metadata": {},
   "outputs": [],
   "source": [
    "# ------------------- R square -------------------------"
   ]
  },
  {
   "cell_type": "code",
   "execution_count": 16,
   "metadata": {},
   "outputs": [
    {
     "data": {
      "text/plain": [
       "0.883066323975672"
      ]
     },
     "execution_count": 16,
     "metadata": {},
     "output_type": "execute_result"
    }
   ],
   "source": [
    "# Evaluate r^2\n",
    "metrics.r2_score(y_test, pred)"
   ]
  },
  {
   "cell_type": "code",
   "execution_count": 17,
   "metadata": {},
   "outputs": [
    {
     "data": {
      "text/plain": [
       "[<matplotlib.lines.Line2D at 0x12add90b8>]"
      ]
     },
     "execution_count": 17,
     "metadata": {},
     "output_type": "execute_result"
    },
    {
     "data": {
      "image/png": "[encoded data removed]",
      "text/plain": [
       "<matplotlib.figure.Figure at 0x12add90f0>"
      ]
     },
     "metadata": {},
     "output_type": "display_data"
    }
   ],
   "source": [
    "# Plot the learning curves\n",
    "plt.plot(train_errs, label='Train loss')\n",
    "plt.plot(test_errs, label=\"Test loss\")"
   ]
  },
  {
   "cell_type": "code",
   "execution_count": 26,
   "metadata": {},
   "outputs": [],
   "source": [
    "from sklearn.metrics import mean_squared_error"
   ]
  },
  {
   "cell_type": "code",
   "execution_count": 19,
   "metadata": {},
   "outputs": [],
   "source": [
    "\n",
    "\n",
    "#---------------        Mean Squared Error     ------------------\n",
    "\n"
   ]
  },
  {
   "cell_type": "code",
   "execution_count": 20,
   "metadata": {},
   "outputs": [
    {
     "data": {
      "text/plain": [
       "129625.04588041583"
      ]
     },
     "execution_count": 20,
     "metadata": {},
     "output_type": "execute_result"
    }
   ],
   "source": [
    "mean_squared_error(y_test, pred)"
   ]
  },
  {
   "cell_type": "code",
   "execution_count": 39,
   "metadata": {},
   "outputs": [
    {
     "data": {
      "image/png": "[encoded data removed]",
      "text/plain": [
       "<matplotlib.figure.Figure at 0x12d9d5b00>"
      ]
     },
     "metadata": {},
     "output_type": "display_data"
    }
   ],
   "source": [
    "plt.scatter(y_test, pred, s=15, alpha=0.5, label=\"experiment vs predicted\", color=\"red\")\n",
    "plt.xlabel(\"y_test\")\n",
    "plt.ylabel(\"y_predicted\")\n",
    "plt.legend(loc='upper left')\n",
    "plt.show()"
   ]
  },
  {
   "cell_type": "code",
   "execution_count": 40,
   "metadata": {},
   "outputs": [
    {
     "data": {
      "text/plain": [
       "numpy.ndarray"
      ]
     },
     "execution_count": 40,
     "metadata": {},
     "output_type": "execute_result"
    }
   ],
   "source": [
    "type(y_test)"
   ]
  },
  {
   "cell_type": "code",
   "execution_count": 69,
   "metadata": {},
   "outputs": [
    {
     "data": {
      "text/plain": [
       "64"
      ]
     },
     "execution_count": 69,
     "metadata": {},
     "output_type": "execute_result"
    }
   ],
   "source": [
    "len(pred)"
   ]
  },
  {
   "cell_type": "code",
   "execution_count": 93,
   "metadata": {},
   "outputs": [],
   "source": [
    "df=pd.DataFrame({'y_test':[y_test[i][0] for i in range(len(y_test))],\n",
    "                 'pred':[pred[i][0] for i in range(len(pred))]}, \n",
    "                index=[x for x in range(len(pred))])"
   ]
  },
  {
   "cell_type": "code",
   "execution_count": 94,
   "metadata": {},
   "outputs": [
    {
     "data": {
      "text/html": [
       "<div>\n",
       "<style scoped>\n",
       "    .dataframe tbody tr th:only-of-type {\n",
       "        vertical-align: middle;\n",
       "    }\n",
       "\n",
       "    .dataframe tbody tr th {\n",
       "        vertical-align: top;\n",
       "    }\n",
       "\n",
       "    .dataframe thead th {\n",
       "        text-align: right;\n",
       "    }\n",
       "</style>\n",
       "<table border=\"1\" class=\"dataframe\">\n",
       "  <thead>\n",
       "    <tr style=\"text-align: right;\">\n",
       "      <th></th>\n",
       "      <th>y_test</th>\n",
       "      <th>pred</th>\n",
       "    </tr>\n",
       "  </thead>\n",
       "  <tbody>\n",
       "    <tr>\n",
       "      <th>count</th>\n",
       "      <td>64.000000</td>\n",
       "      <td>64.000000</td>\n",
       "    </tr>\n",
       "    <tr>\n",
       "      <th>mean</th>\n",
       "      <td>1979.789062</td>\n",
       "      <td>1966.768877</td>\n",
       "    </tr>\n",
       "    <tr>\n",
       "      <th>std</th>\n",
       "      <td>1061.192990</td>\n",
       "      <td>996.142724</td>\n",
       "    </tr>\n",
       "    <tr>\n",
       "      <th>min</th>\n",
       "      <td>122.500000</td>\n",
       "      <td>28.519741</td>\n",
       "    </tr>\n",
       "    <tr>\n",
       "      <th>25%</th>\n",
       "      <td>1251.250000</td>\n",
       "      <td>1221.892273</td>\n",
       "    </tr>\n",
       "    <tr>\n",
       "      <th>50%</th>\n",
       "      <td>2148.000000</td>\n",
       "      <td>2136.554199</td>\n",
       "    </tr>\n",
       "    <tr>\n",
       "      <th>75%</th>\n",
       "      <td>2808.000000</td>\n",
       "      <td>2744.015442</td>\n",
       "    </tr>\n",
       "    <tr>\n",
       "      <th>max</th>\n",
       "      <td>3851.000000</td>\n",
       "      <td>3774.819580</td>\n",
       "    </tr>\n",
       "  </tbody>\n",
       "</table>\n",
       "</div>"
      ],
      "text/plain": [
       "            y_test         pred\n",
       "count    64.000000    64.000000\n",
       "mean   1979.789062  1966.768877\n",
       "std    1061.192990   996.142724\n",
       "min     122.500000    28.519741\n",
       "25%    1251.250000  1221.892273\n",
       "50%    2148.000000  2136.554199\n",
       "75%    2808.000000  2744.015442\n",
       "max    3851.000000  3774.819580"
      ]
     },
     "execution_count": 94,
     "metadata": {},
     "output_type": "execute_result"
    }
   ],
   "source": [
    "df.describe()"
   ]
  },
  {
   "cell_type": "code",
   "execution_count": 5,
   "metadata": {},
   "outputs": [],
   "source": [
    "#----------------   SPLIT DATA FOR TRAIN AND TEST : Target is Pb ----------------"
   ]
  },
  {
   "cell_type": "code",
   "execution_count": 6,
   "metadata": {},
   "outputs": [
    {
     "name": "stderr",
     "output_type": "stream",
     "text": [
      "/Users/enkhbat/miniconda3/lib/python3.6/site-packages/sklearn/preprocessing/data.py:645: DataConversionWarning: Data with input dtype int64, float64 were all converted to float64 by StandardScaler.\n",
      "  return self.partial_fit(X, y)\n",
      "/Users/enkhbat/miniconda3/lib/python3.6/site-packages/sklearn/base.py:464: DataConversionWarning: Data with input dtype int64, float64 were all converted to float64 by StandardScaler.\n",
      "  return self.fit(X, **fit_params).transform(X)\n",
      "/Users/enkhbat/miniconda3/lib/python3.6/site-packages/ipykernel_launcher.py:4: DataConversionWarning: Data with input dtype int64, float64 were all converted to float64 by StandardScaler.\n",
      "  after removing the cwd from sys.path.\n"
     ]
    }
   ],
   "source": [
    "X_train, X_test, y_train, y_test =train_test_split(data[['GOR', 'Oil gravity', 'Gas gravity', 'T']], data.Bob)\n",
    "ss=StandardScaler()\n",
    "X_train=ss.fit_transform(X_train)\n",
    "X_test=ss.transform(X_test)"
   ]
  },
  {
   "cell_type": "code",
   "execution_count": 7,
   "metadata": {},
   "outputs": [],
   "source": [
    "# reshape no matter how many col it became 1\n",
    "y_train=y_train.values.reshape(-1,1)\n",
    "y_test=y_test.values.reshape(-1,1)"
   ]
  },
  {
   "cell_type": "code",
   "execution_count": 8,
   "metadata": {},
   "outputs": [],
   "source": [
    "\n",
    "#-------------- Building NN model for \"Bob\"  ------------------\n",
    "\n"
   ]
  },
  {
   "cell_type": "code",
   "execution_count": 9,
   "metadata": {},
   "outputs": [],
   "source": [
    "tf.reset_default_graph()\n",
    "\n",
    "X=tf.placeholder(dtype=tf.float32, shape=(None,4), name='X' )\n",
    "y=tf.placeholder(dtype=tf.float32, shape=(None,1), name='y' )\n",
    "\n",
    "# setup hidden layer. data, neuron act func name\n",
    "h1=tf.layers.dense(X,8, activation=tf.nn.relu, name='hidden1')\n",
    "\n",
    "# output layer\n",
    "\n",
    "output=tf.layers.dense(h1, 1, activation=None, name='output')\n",
    "\n",
    "loss=tf.losses.mean_squared_error(y, output)\n",
    "optimizer=tf.train.AdamOptimizer(.01)\n",
    "\n",
    "training_run=optimizer.minimize(loss)"
   ]
  },
  {
   "cell_type": "code",
   "execution_count": 10,
   "metadata": {},
   "outputs": [],
   "source": [
    "#---------- ITERATED 50 EPOCH ----------------"
   ]
  },
  {
   "cell_type": "code",
   "execution_count": 25,
   "metadata": {},
   "outputs": [],
   "source": [
    "init = tf.global_variables_initializer()\n",
    "\n",
    "with tf.Session() as sess:\n",
    "    init.run()\n",
    "    \n",
    "    for epoch in range(50):\n",
    "        sess.run(training_run, feed_dict={X: X_train, y: y_train})\n",
    "        train_loss = sess.run(loss, feed_dict={X: X_train, y: y_train})\n",
    "        test_loss = sess.run(loss, feed_dict={X: X_test, y: y_test})\n",
    "        print('epoch', epoch, 'train loss', train_loss, 'test loss', test_loss)"
   ]
  },
  {
   "cell_type": "code",
   "execution_count": 22,
   "metadata": {},
   "outputs": [
    {
     "name": "stdout",
     "output_type": "stream",
     "text": [
      "epoch 0 train loss 1.3570592 test loss 0.9398694\n",
      "epoch 10 train loss 0.44882315 test loss 0.35301644\n",
      "epoch 20 train loss 0.1637985 test loss 0.21467018\n",
      "epoch 30 train loss 0.105786614 test loss 0.15109703\n",
      "epoch 40 train loss 0.07397208 test loss 0.106520995\n",
      "epoch 50 train loss 0.052358426 test loss 0.07278189\n",
      "epoch 60 train loss 0.03859213 test loss 0.04937365\n",
      "epoch 70 train loss 0.0248892 test loss 0.034132686\n",
      "epoch 80 train loss 0.015313769 test loss 0.023541184\n",
      "epoch 90 train loss 0.008950371 test loss 0.014621022\n",
      "epoch 100 train loss 0.005083263 test loss 0.008550579\n",
      "epoch 110 train loss 0.003323691 test loss 0.005755633\n",
      "epoch 120 train loss 0.0025636305 test loss 0.0046140263\n",
      "epoch 130 train loss 0.0021609946 test loss 0.0039266357\n",
      "epoch 140 train loss 0.0019155208 test loss 0.0034679081\n",
      "epoch 150 train loss 0.0017542266 test loss 0.0032040188\n",
      "epoch 160 train loss 0.0016385063 test loss 0.0030098688\n",
      "epoch 170 train loss 0.0015498569 test loss 0.0028373217\n",
      "epoch 180 train loss 0.0014736444 test loss 0.0026907458\n",
      "epoch 190 train loss 0.001406221 test loss 0.0025689253\n"
     ]
    }
   ],
   "source": [
    "init = tf.global_variables_initializer()\n",
    "\n",
    "train_errs = []\n",
    "test_errs = []\n",
    "with tf.Session() as sess:\n",
    "    init.run()\n",
    "    \n",
    "    for epoch in range(200):\n",
    "        # training is here\n",
    "        sess.run(training_run, feed_dict={X: X_train, y: y_train})\n",
    "        \n",
    "        # Calculate train loss\n",
    "        train_loss = sess.run(loss, feed_dict={X: X_train, y: y_train})\n",
    "        train_errs.append(train_loss)\n",
    "        \n",
    "        # Calculate test loss\n",
    "        test_loss = sess.run(loss, feed_dict={X: X_test, y: y_test})\n",
    "        test_errs.append(test_loss)\n",
    "        \n",
    "        # Print losses\n",
    "        if epoch %10==0:\n",
    "            print('epoch', epoch, 'train loss', train_loss, 'test loss', test_loss)\n",
    "    pred = sess.run(output, feed_dict={X: X_test})"
   ]
  },
  {
   "cell_type": "code",
   "execution_count": 23,
   "metadata": {},
   "outputs": [
    {
     "data": {
      "text/plain": [
       "0.9374793667407809"
      ]
     },
     "execution_count": 23,
     "metadata": {},
     "output_type": "execute_result"
    }
   ],
   "source": [
    "# Evaluate r^2\n",
    "metrics.r2_score(y_test, pred)"
   ]
  },
  {
   "cell_type": "code",
   "execution_count": 24,
   "metadata": {},
   "outputs": [
    {
     "data": {
      "text/plain": [
       "[<matplotlib.lines.Line2D at 0x1297284e0>]"
      ]
     },
     "execution_count": 24,
     "metadata": {},
     "output_type": "execute_result"
    },
    {
     "data": {
      "image/png": "[encoded data removed]",
      "text/plain": [
       "<matplotlib.figure.Figure at 0x127547550>"
      ]
     },
     "metadata": {},
     "output_type": "display_data"
    }
   ],
   "source": [
    "# Plot the learning curves\n",
    "plt.plot(train_errs, label='Train loss')\n",
    "plt.plot(test_errs, label=\"Test loss\")"
   ]
  },
  {
   "cell_type": "code",
   "execution_count": 27,
   "metadata": {},
   "outputs": [
    {
     "data": {
      "text/plain": [
       "0.002471637704000604"
      ]
     },
     "execution_count": 27,
     "metadata": {},
     "output_type": "execute_result"
    }
   ],
   "source": [
    "mean_squared_error(y_test, pred)"
   ]
  },
  {
   "cell_type": "code",
   "execution_count": 29,
   "metadata": {},
   "outputs": [
    {
     "data": {
      "image/png": "[encoded data removed]",
      "text/plain": [
       "<matplotlib.figure.Figure at 0x129933a58>"
      ]
     },
     "metadata": {},
     "output_type": "display_data"
    }
   ],
   "source": [
    "plt.scatter(y_test, pred, s=15, alpha=0.5, label=\"experiment vs predicted for 'Bob' \", color=\"red\")\n",
    "plt.xlabel(\"y_test\")\n",
    "plt.ylabel(\"y_predicted\")\n",
    "plt.legend(loc='upper left')\n",
    "plt.show()"
   ]
  },
  {
   "cell_type": "code",
   "execution_count": 30,
   "metadata": {},
   "outputs": [],
   "source": [
    "df=pd.DataFrame({'y_test':[y_test[i][0] for i in range(len(y_test))],\n",
    "                 'pred':[pred[i][0] for i in range(len(pred))]}, \n",
    "                index=[x for x in range(len(pred))])"
   ]
  },
  {
   "cell_type": "code",
   "execution_count": 31,
   "metadata": {},
   "outputs": [
    {
     "data": {
      "text/html": [
       "<div>\n",
       "<style scoped>\n",
       "    .dataframe tbody tr th:only-of-type {\n",
       "        vertical-align: middle;\n",
       "    }\n",
       "\n",
       "    .dataframe tbody tr th {\n",
       "        vertical-align: top;\n",
       "    }\n",
       "\n",
       "    .dataframe thead th {\n",
       "        text-align: right;\n",
       "    }\n",
       "</style>\n",
       "<table border=\"1\" class=\"dataframe\">\n",
       "  <thead>\n",
       "    <tr style=\"text-align: right;\">\n",
       "      <th></th>\n",
       "      <th>y_test</th>\n",
       "      <th>pred</th>\n",
       "    </tr>\n",
       "  </thead>\n",
       "  <tbody>\n",
       "    <tr>\n",
       "      <th>count</th>\n",
       "      <td>64.000000</td>\n",
       "      <td>64.000000</td>\n",
       "    </tr>\n",
       "    <tr>\n",
       "      <th>mean</th>\n",
       "      <td>1.337141</td>\n",
       "      <td>1.334258</td>\n",
       "    </tr>\n",
       "    <tr>\n",
       "      <th>std</th>\n",
       "      <td>0.200401</td>\n",
       "      <td>0.202319</td>\n",
       "    </tr>\n",
       "    <tr>\n",
       "      <th>min</th>\n",
       "      <td>1.032000</td>\n",
       "      <td>1.033392</td>\n",
       "    </tr>\n",
       "    <tr>\n",
       "      <th>25%</th>\n",
       "      <td>1.198500</td>\n",
       "      <td>1.191748</td>\n",
       "    </tr>\n",
       "    <tr>\n",
       "      <th>50%</th>\n",
       "      <td>1.322000</td>\n",
       "      <td>1.325541</td>\n",
       "    </tr>\n",
       "    <tr>\n",
       "      <th>75%</th>\n",
       "      <td>1.412000</td>\n",
       "      <td>1.391444</td>\n",
       "    </tr>\n",
       "    <tr>\n",
       "      <th>max</th>\n",
       "      <td>1.920000</td>\n",
       "      <td>1.866014</td>\n",
       "    </tr>\n",
       "  </tbody>\n",
       "</table>\n",
       "</div>"
      ],
      "text/plain": [
       "          y_test       pred\n",
       "count  64.000000  64.000000\n",
       "mean    1.337141   1.334258\n",
       "std     0.200401   0.202319\n",
       "min     1.032000   1.033392\n",
       "25%     1.198500   1.191748\n",
       "50%     1.322000   1.325541\n",
       "75%     1.412000   1.391444\n",
       "max     1.920000   1.866014"
      ]
     },
     "execution_count": 31,
     "metadata": {},
     "output_type": "execute_result"
    }
   ],
   "source": [
    "df.describe()"
   ]
  },
  {
   "cell_type": "code",
   "execution_count": null,
   "metadata": {},
   "outputs": [],
   "source": []
  }
 ],
 "metadata": {
  "kernelspec": {
   "display_name": "Python 3",
   "language": "python",
   "name": "python3"
  },
  "language_info": {
   "codemirror_mode": {
    "name": "ipython",
    "version": 3
   },
   "file_extension": ".py",
   "mimetype": "text/x-python",
   "name": "python",
   "nbconvert_exporter": "python",
   "pygments_lexer": "ipython3",
   "version": "3.6.3"
  }
 },
 "nbformat": 4,
 "nbformat_minor": 2
}
