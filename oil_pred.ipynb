{
 "cells": [
  {
   "cell_type": "markdown",
   "metadata": {},
   "source": [
    "#      ANN MODEL FOR PREDICTION OF BUBBLE POINT\n",
    "#                          PRESSURE OF CRUDE OILS"
   ]
  },
  {
   "cell_type": "code",
   "execution_count": null,
   "metadata": {},
   "outputs": [],
   "source": [
    "## ALL LIBRARIES USED HERE"
   ]
  },
  {
   "cell_type": "code",
   "execution_count": 1,
   "metadata": {},
   "outputs": [],
   "source": [
    "import tensorflow as tf\n",
    "\n",
    "from sklearn.model_selection import train_test_split\n",
    "from sklearn.preprocessing import StandardScaler\n",
    "from sklearn import metrics\n",
    "\n",
    "import matplotlib.pyplot as plt\n",
    "import seaborn as sns\n",
    "import matplotlib\n",
    "import matplotlib.pyplot as plt\n",
    "%matplotlib inline"
   ]
  },
  {
   "cell_type": "code",
   "execution_count": 2,
   "metadata": {},
   "outputs": [],
   "source": [
    "import pandas as pd"
   ]
  },
  {
   "cell_type": "code",
   "execution_count": 3,
   "metadata": {},
   "outputs": [],
   "source": [
    "# ---------------EXCEL DATA---------------"
   ]
  },
  {
   "cell_type": "code",
   "execution_count": 4,
   "metadata": {},
   "outputs": [],
   "source": [
    "data = pd.read_excel('Simulation Data (1).xlsx')"
   ]
  },
  {
   "cell_type": "code",
   "execution_count": 7,
   "metadata": {},
   "outputs": [
    {
     "data": {
      "text/html": [
       "<div>\n",
       "<style scoped>\n",
       "    .dataframe tbody tr th:only-of-type {\n",
       "        vertical-align: middle;\n",
       "    }\n",
       "\n",
       "    .dataframe tbody tr th {\n",
       "        vertical-align: top;\n",
       "    }\n",
       "\n",
       "    .dataframe thead th {\n",
       "        text-align: right;\n",
       "    }\n",
       "</style>\n",
       "<table border=\"1\" class=\"dataframe\">\n",
       "  <thead>\n",
       "    <tr style=\"text-align: right;\">\n",
       "      <th></th>\n",
       "      <th>GOR</th>\n",
       "      <th>Oil gravity</th>\n",
       "      <th>Gas gravity</th>\n",
       "      <th>T</th>\n",
       "      <th>Pb</th>\n",
       "      <th>Bob</th>\n",
       "    </tr>\n",
       "  </thead>\n",
       "  <tbody>\n",
       "    <tr>\n",
       "      <th>0</th>\n",
       "      <td>1507</td>\n",
       "      <td>0.951</td>\n",
       "      <td>39.3</td>\n",
       "      <td>225</td>\n",
       "      <td>3573.0</td>\n",
       "      <td>1.875</td>\n",
       "    </tr>\n",
       "    <tr>\n",
       "      <th>1</th>\n",
       "      <td>898</td>\n",
       "      <td>0.802</td>\n",
       "      <td>32.7</td>\n",
       "      <td>175</td>\n",
       "      <td>3571.0</td>\n",
       "      <td>1.471</td>\n",
       "    </tr>\n",
       "    <tr>\n",
       "      <th>2</th>\n",
       "      <td>898</td>\n",
       "      <td>0.802</td>\n",
       "      <td>32.7</td>\n",
       "      <td>150</td>\n",
       "      <td>3426.0</td>\n",
       "      <td>1.451</td>\n",
       "    </tr>\n",
       "    <tr>\n",
       "      <th>3</th>\n",
       "      <td>1579</td>\n",
       "      <td>0.930</td>\n",
       "      <td>42.8</td>\n",
       "      <td>235</td>\n",
       "      <td>3405.0</td>\n",
       "      <td>1.997</td>\n",
       "    </tr>\n",
       "    <tr>\n",
       "      <th>4</th>\n",
       "      <td>825</td>\n",
       "      <td>0.779</td>\n",
       "      <td>34.2</td>\n",
       "      <td>185</td>\n",
       "      <td>3354.0</td>\n",
       "      <td>1.431</td>\n",
       "    </tr>\n",
       "  </tbody>\n",
       "</table>\n",
       "</div>"
      ],
      "text/plain": [
       "    GOR  Oil gravity  Gas gravity    T      Pb    Bob\n",
       "0  1507        0.951         39.3  225  3573.0  1.875\n",
       "1   898        0.802         32.7  175  3571.0  1.471\n",
       "2   898        0.802         32.7  150  3426.0  1.451\n",
       "3  1579        0.930         42.8  235  3405.0  1.997\n",
       "4   825        0.779         34.2  185  3354.0  1.431"
      ]
     },
     "execution_count": 7,
     "metadata": {},
     "output_type": "execute_result"
    }
   ],
   "source": [
    "data.head()"
   ]
  },
  {
   "cell_type": "code",
   "execution_count": 1,
   "metadata": {},
   "outputs": [],
   "source": [
    "#----------------   SPLIT DATA FOR TRAIN AND TEST : Target is Pb ----------------"
   ]
  },
  {
   "cell_type": "code",
   "execution_count": 5,
   "metadata": {
    "scrolled": true
   },
   "outputs": [
    {
     "name": "stderr",
     "output_type": "stream",
     "text": [
      "/Users/enkhbat/miniconda3/lib/python3.6/site-packages/sklearn/preprocessing/data.py:645: DataConversionWarning: Data with input dtype int64, float64 were all converted to float64 by StandardScaler.\n",
      "  return self.partial_fit(X, y)\n",
      "/Users/enkhbat/miniconda3/lib/python3.6/site-packages/sklearn/base.py:464: DataConversionWarning: Data with input dtype int64, float64 were all converted to float64 by StandardScaler.\n",
      "  return self.fit(X, **fit_params).transform(X)\n",
      "/Users/enkhbat/miniconda3/lib/python3.6/site-packages/ipykernel_launcher.py:4: DataConversionWarning: Data with input dtype int64, float64 were all converted to float64 by StandardScaler.\n",
      "  after removing the cwd from sys.path.\n"
     ]
    }
   ],
   "source": [
    "X_train, X_test, y_train, y_test =train_test_split(data[['GOR', 'Oil gravity', 'Gas gravity', 'T']], data.Pb)\n",
    "ss=StandardScaler()\n",
    "X_train=ss.fit_transform(X_train)\n",
    "X_test=ss.transform(X_test)"
   ]
  },
  {
   "cell_type": "code",
   "execution_count": 6,
   "metadata": {},
   "outputs": [],
   "source": [
    "# reshape no matter how many col it became 1\n",
    "y_train=y_train.values.reshape(-1,1)\n",
    "y_test=y_test.values.reshape(-1,1)"
   ]
  },
  {
   "cell_type": "code",
   "execution_count": 7,
   "metadata": {},
   "outputs": [],
   "source": [
    "\n",
    "#-------------- Building NN model ------------------\n",
    "\n"
   ]
  },
  {
   "cell_type": "code",
   "execution_count": 8,
   "metadata": {},
   "outputs": [],
   "source": [
    "tf.reset_default_graph()\n",
    "\n",
    "X=tf.placeholder(dtype=tf.float32, shape=(None,4), name='X' )\n",
    "y=tf.placeholder(dtype=tf.float32, shape=(None,1), name='y' )\n",
    "\n",
    "# setup hidden layer. data, neuron act func name\n",
    "h1=tf.layers.dense(X,8, activation=tf.nn.relu, name='hidden1')\n",
    "\n",
    "# output layer\n",
    "\n",
    "output=tf.layers.dense(h1, 1, activation=None, name='output')\n",
    "\n",
    "loss=tf.losses.mean_squared_error(y, output)\n",
    "optimizer=tf.train.AdamOptimizer(.01)\n",
    "\n",
    "training_run=optimizer.minimize(loss)"
   ]
  },
  {
   "cell_type": "code",
   "execution_count": 9,
   "metadata": {},
   "outputs": [],
   "source": [
    "#---------- ITERATED 50 EPOCH ----------------"
   ]
  },
  {
   "cell_type": "code",
   "execution_count": 10,
   "metadata": {},
   "outputs": [
    {
     "name": "stdout",
     "output_type": "stream",
     "text": [
      "epoch 0 train loss 4744020.5 test loss 3349648.5\n",
      "epoch 1 train loss 4743694.0 test loss 3349416.5\n",
      "epoch 2 train loss 4743369.0 test loss 3349184.5\n",
      "epoch 3 train loss 4743045.5 test loss 3348953.5\n",
      "epoch 4 train loss 4742723.0 test loss 3348724.0\n",
      "epoch 5 train loss 4742402.5 test loss 3348495.8\n",
      "epoch 6 train loss 4742082.5 test loss 3348266.8\n",
      "epoch 7 train loss 4741761.5 test loss 3348037.0\n",
      "epoch 8 train loss 4741440.5 test loss 3347807.5\n",
      "epoch 9 train loss 4741118.5 test loss 3347576.5\n",
      "epoch 10 train loss 4740794.0 test loss 3347345.0\n",
      "epoch 11 train loss 4740469.5 test loss 3347111.2\n",
      "epoch 12 train loss 4740142.5 test loss 3346877.8\n",
      "epoch 13 train loss 4739814.0 test loss 3346643.2\n",
      "epoch 14 train loss 4739483.0 test loss 3346406.5\n",
      "epoch 15 train loss 4739148.5 test loss 3346169.0\n",
      "epoch 16 train loss 4738811.0 test loss 3345929.8\n",
      "epoch 17 train loss 4738469.5 test loss 3345687.0\n",
      "epoch 18 train loss 4738126.0 test loss 3345441.5\n",
      "epoch 19 train loss 4737777.0 test loss 3345192.0\n",
      "epoch 20 train loss 4737422.5 test loss 3344939.5\n",
      "epoch 21 train loss 4737062.5 test loss 3344682.5\n",
      "epoch 22 train loss 4736693.5 test loss 3344421.2\n",
      "epoch 23 train loss 4736320.0 test loss 3344155.8\n",
      "epoch 24 train loss 4735939.5 test loss 3343886.0\n",
      "epoch 25 train loss 4735551.5 test loss 3343611.0\n",
      "epoch 26 train loss 4735156.0 test loss 3343331.5\n",
      "epoch 27 train loss 4734752.0 test loss 3343046.8\n",
      "epoch 28 train loss 4734340.5 test loss 3342756.8\n",
      "epoch 29 train loss 4733920.0 test loss 3342461.0\n",
      "epoch 30 train loss 4733491.0 test loss 3342159.0\n",
      "epoch 31 train loss 4733052.5 test loss 3341850.2\n",
      "epoch 32 train loss 4732604.0 test loss 3341535.2\n",
      "epoch 33 train loss 4732147.0 test loss 3341214.2\n",
      "epoch 34 train loss 4731680.0 test loss 3340886.8\n",
      "epoch 35 train loss 4731203.5 test loss 3340552.5\n",
      "epoch 36 train loss 4730717.0 test loss 3340211.2\n",
      "epoch 37 train loss 4730219.5 test loss 3339863.5\n",
      "epoch 38 train loss 4729710.5 test loss 3339508.5\n",
      "epoch 39 train loss 4729189.0 test loss 3339146.5\n",
      "epoch 40 train loss 4728658.5 test loss 3338777.2\n",
      "epoch 41 train loss 4728116.0 test loss 3338400.8\n",
      "epoch 42 train loss 4727562.0 test loss 3338016.8\n",
      "epoch 43 train loss 4726996.0 test loss 3337625.0\n",
      "epoch 44 train loss 4726418.5 test loss 3337225.2\n",
      "epoch 45 train loss 4725829.0 test loss 3336817.8\n",
      "epoch 46 train loss 4725226.5 test loss 3336402.5\n",
      "epoch 47 train loss 4724612.0 test loss 3335978.8\n",
      "epoch 48 train loss 4723983.5 test loss 3335546.5\n",
      "epoch 49 train loss 4723342.5 test loss 3335105.2\n"
     ]
    }
   ],
   "source": [
    "init = tf.global_variables_initializer()\n",
    "\n",
    "with tf.Session() as sess:\n",
    "    init.run()\n",
    "    \n",
    "    for epoch in range(50):\n",
    "        sess.run(training_run, feed_dict={X: X_train, y: y_train})\n",
    "        train_loss = sess.run(loss, feed_dict={X: X_train, y: y_train})\n",
    "        test_loss = sess.run(loss, feed_dict={X: X_test, y: y_test})\n",
    "        print('epoch', epoch, 'train loss', train_loss, 'test loss', test_loss)"
   ]
  },
  {
   "cell_type": "code",
   "execution_count": 11,
   "metadata": {},
   "outputs": [],
   "source": [
    "#-----------5000 epoch iteration ---------------"
   ]
  },
  {
   "cell_type": "code",
   "execution_count": 44,
   "metadata": {},
   "outputs": [],
   "source": [
    "init = tf.global_variables_initializer()\n",
    "\n",
    "train_errs = []\n",
    "test_errs = []\n",
    "with tf.Session() as sess:\n",
    "    init.run()\n",
    "    \n",
    "    for epoch in range(5000):\n",
    "        # training is here\n",
    "        sess.run(training_run, feed_dict={X: X_train, y: y_train})\n",
    "        \n",
    "        # Calculate train loss\n",
    "        train_loss = sess.run(loss, feed_dict={X: X_train, y: y_train})\n",
    "        train_errs.append(train_loss)\n",
    "        \n",
    "        # Calculate test loss\n",
    "        test_loss = sess.run(loss, feed_dict={X: X_test, y: y_test})\n",
    "        test_errs.append(test_loss)\n",
    "        \n",
    "        # Print losses\n",
    "        if epoch %10==0:\n",
    "            print('epoch', epoch, 'train loss', train_loss, 'test loss', test_loss)\n",
    "    pred = sess.run(output, feed_dict={X: X_test})"
   ]
  },
  {
   "cell_type": "code",
   "execution_count": 13,
   "metadata": {},
   "outputs": [],
   "source": [
    "# ------------------- R square -------------------------"
   ]
  },
  {
   "cell_type": "code",
   "execution_count": 14,
   "metadata": {},
   "outputs": [
    {
     "data": {
      "text/plain": [
       "0.8092541308890371"
      ]
     },
     "execution_count": 14,
     "metadata": {},
     "output_type": "execute_result"
    }
   ],
   "source": [
    "# Evaluate r^2\n",
    "metrics.r2_score(y_test, pred)"
   ]
  },
  {
   "cell_type": "code",
   "execution_count": 15,
   "metadata": {},
   "outputs": [
    {
     "data": {
      "text/plain": [
       "[<matplotlib.lines.Line2D at 0x132eec1d0>]"
      ]
     },
     "execution_count": 15,
     "metadata": {},
     "output_type": "execute_result"
    },
    {
     "data": {
      "image/png": "[encoded data removed]",
      "text/plain": [
       "<matplotlib.figure.Figure at 0x132eec630>"
      ]
     },
     "metadata": {},
     "output_type": "display_data"
    }
   ],
   "source": [
    "# Plot the learning curves\n",
    "plt.plot(train_errs, label='Train loss')\n",
    "plt.plot(test_errs, label=\"Test loss\")"
   ]
  },
  {
   "cell_type": "code",
   "execution_count": 16,
   "metadata": {},
   "outputs": [],
   "source": [
    "from sklearn.metrics import mean_squared_error"
   ]
  },
  {
   "cell_type": "code",
   "execution_count": 17,
   "metadata": {},
   "outputs": [],
   "source": [
    "\n",
    "\n",
    "#---------------        Mean Squared Error     ------------------\n",
    "\n"
   ]
  },
  {
   "cell_type": "code",
   "execution_count": 18,
   "metadata": {},
   "outputs": [
    {
     "data": {
      "text/plain": [
       "146353.39820770785"
      ]
     },
     "execution_count": 18,
     "metadata": {},
     "output_type": "execute_result"
    }
   ],
   "source": [
    "mean_squared_error(y_test, pred)"
   ]
  },
  {
   "cell_type": "code",
   "execution_count": 21,
   "metadata": {},
   "outputs": [
    {
     "data": {
      "image/png": "[encoded data removed]",
      "text/plain": [
       "<matplotlib.figure.Figure at 0x13519ff28>"
      ]
     },
     "metadata": {},
     "output_type": "display_data"
    }
   ],
   "source": [
    "plt.scatter(y_test, pred, s=15, alpha=0.5, label=\"experiment vs predicted\", color=\"red\")\n",
    "plt.xlabel(\"y_test\")\n",
    "plt.ylabel(\"y_predicted\")\n",
    "plt.legend(loc='upper left')\n",
    "plt.xlim([0,plt.xlim()[1]])\n",
    "plt.ylim([0,plt.ylim()[1]])\n",
    "_ = plt.plot([100, 3100], [100, 3100])\n",
    "plt.show()"
   ]
  },
  {
   "cell_type": "code",
   "execution_count": 22,
   "metadata": {},
   "outputs": [
    {
     "data": {
      "text/plain": [
       "numpy.ndarray"
      ]
     },
     "execution_count": 22,
     "metadata": {},
     "output_type": "execute_result"
    }
   ],
   "source": [
    "type(y_test)"
   ]
  },
  {
   "cell_type": "code",
   "execution_count": 23,
   "metadata": {},
   "outputs": [
    {
     "data": {
      "text/plain": [
       "64"
      ]
     },
     "execution_count": 23,
     "metadata": {},
     "output_type": "execute_result"
    }
   ],
   "source": [
    "len(pred)"
   ]
  },
  {
   "cell_type": "code",
   "execution_count": 24,
   "metadata": {},
   "outputs": [],
   "source": [
    "df=pd.DataFrame({'y_test':[y_test[i][0] for i in range(len(y_test))],\n",
    "                 'pred':[pred[i][0] for i in range(len(pred))]}, \n",
    "                index=[x for x in range(len(pred))])"
   ]
  },
  {
   "cell_type": "code",
   "execution_count": 25,
   "metadata": {},
   "outputs": [
    {
     "data": {
      "text/html": [
       "<div>\n",
       "<style scoped>\n",
       "    .dataframe tbody tr th:only-of-type {\n",
       "        vertical-align: middle;\n",
       "    }\n",
       "\n",
       "    .dataframe tbody tr th {\n",
       "        vertical-align: top;\n",
       "    }\n",
       "\n",
       "    .dataframe thead th {\n",
       "        text-align: right;\n",
       "    }\n",
       "</style>\n",
       "<table border=\"1\" class=\"dataframe\">\n",
       "  <thead>\n",
       "    <tr style=\"text-align: right;\">\n",
       "      <th></th>\n",
       "      <th>y_test</th>\n",
       "      <th>pred</th>\n",
       "    </tr>\n",
       "  </thead>\n",
       "  <tbody>\n",
       "    <tr>\n",
       "      <th>count</th>\n",
       "      <td>64.000000</td>\n",
       "      <td>64.000000</td>\n",
       "    </tr>\n",
       "    <tr>\n",
       "      <th>mean</th>\n",
       "      <td>1607.000000</td>\n",
       "      <td>1646.451057</td>\n",
       "    </tr>\n",
       "    <tr>\n",
       "      <th>std</th>\n",
       "      <td>882.863469</td>\n",
       "      <td>866.073001</td>\n",
       "    </tr>\n",
       "    <tr>\n",
       "      <th>min</th>\n",
       "      <td>130.000000</td>\n",
       "      <td>122.176033</td>\n",
       "    </tr>\n",
       "    <tr>\n",
       "      <th>25%</th>\n",
       "      <td>947.750000</td>\n",
       "      <td>1049.742767</td>\n",
       "    </tr>\n",
       "    <tr>\n",
       "      <th>50%</th>\n",
       "      <td>1567.500000</td>\n",
       "      <td>1648.642151</td>\n",
       "    </tr>\n",
       "    <tr>\n",
       "      <th>75%</th>\n",
       "      <td>2376.250000</td>\n",
       "      <td>2305.937866</td>\n",
       "    </tr>\n",
       "    <tr>\n",
       "      <th>max</th>\n",
       "      <td>3449.000000</td>\n",
       "      <td>3379.154053</td>\n",
       "    </tr>\n",
       "  </tbody>\n",
       "</table>\n",
       "</div>"
      ],
      "text/plain": [
       "            y_test         pred\n",
       "count    64.000000    64.000000\n",
       "mean   1607.000000  1646.451057\n",
       "std     882.863469   866.073001\n",
       "min     130.000000   122.176033\n",
       "25%     947.750000  1049.742767\n",
       "50%    1567.500000  1648.642151\n",
       "75%    2376.250000  2305.937866\n",
       "max    3449.000000  3379.154053"
      ]
     },
     "execution_count": 25,
     "metadata": {},
     "output_type": "execute_result"
    }
   ],
   "source": [
    "df.describe()"
   ]
  },
  {
   "cell_type": "code",
   "execution_count": 26,
   "metadata": {},
   "outputs": [],
   "source": [
    "#----------------   SPLIT DATA FOR TRAIN AND TEST : Target is Pb ----------------"
   ]
  },
  {
   "cell_type": "code",
   "execution_count": 27,
   "metadata": {},
   "outputs": [
    {
     "name": "stderr",
     "output_type": "stream",
     "text": [
      "/Users/enkhbat/miniconda3/lib/python3.6/site-packages/sklearn/preprocessing/data.py:645: DataConversionWarning: Data with input dtype int64, float64 were all converted to float64 by StandardScaler.\n",
      "  return self.partial_fit(X, y)\n",
      "/Users/enkhbat/miniconda3/lib/python3.6/site-packages/sklearn/base.py:464: DataConversionWarning: Data with input dtype int64, float64 were all converted to float64 by StandardScaler.\n",
      "  return self.fit(X, **fit_params).transform(X)\n",
      "/Users/enkhbat/miniconda3/lib/python3.6/site-packages/ipykernel_launcher.py:4: DataConversionWarning: Data with input dtype int64, float64 were all converted to float64 by StandardScaler.\n",
      "  after removing the cwd from sys.path.\n"
     ]
    }
   ],
   "source": [
    "X_train, X_test, y_train, y_test =train_test_split(data[['GOR', 'Oil gravity', 'Gas gravity', 'T']], data.Bob)\n",
    "ss=StandardScaler()\n",
    "X_train=ss.fit_transform(X_train)\n",
    "X_test=ss.transform(X_test)"
   ]
  },
  {
   "cell_type": "code",
   "execution_count": 28,
   "metadata": {},
   "outputs": [],
   "source": [
    "# reshape no matter how many col it became 1\n",
    "y_train=y_train.values.reshape(-1,1)\n",
    "y_test=y_test.values.reshape(-1,1)"
   ]
  },
  {
   "cell_type": "code",
   "execution_count": 29,
   "metadata": {},
   "outputs": [],
   "source": [
    "\n",
    "#-------------- Building NN model for \"Bob\"  ------------------\n",
    "\n"
   ]
  },
  {
   "cell_type": "code",
   "execution_count": 30,
   "metadata": {},
   "outputs": [],
   "source": [
    "tf.reset_default_graph()\n",
    "\n",
    "X=tf.placeholder(dtype=tf.float32, shape=(None,4), name='X' )\n",
    "y=tf.placeholder(dtype=tf.float32, shape=(None,1), name='y' )\n",
    "\n",
    "# setup hidden layer. data, neuron act func name\n",
    "h1=tf.layers.dense(X,8, activation=tf.nn.relu, name='hidden1')\n",
    "\n",
    "# output layer\n",
    "\n",
    "output=tf.layers.dense(h1, 1, activation=None, name='output')\n",
    "\n",
    "loss=tf.losses.mean_squared_error(y, output)\n",
    "optimizer=tf.train.AdamOptimizer(.01)\n",
    "\n",
    "training_run=optimizer.minimize(loss)"
   ]
  },
  {
   "cell_type": "code",
   "execution_count": 31,
   "metadata": {},
   "outputs": [],
   "source": [
    "#---------- ITERATED 50 EPOCH ----------------"
   ]
  },
  {
   "cell_type": "code",
   "execution_count": 32,
   "metadata": {},
   "outputs": [
    {
     "name": "stdout",
     "output_type": "stream",
     "text": [
      "epoch 0 train loss 1.3838013 test loss 1.1950183\n",
      "epoch 1 train loss 1.266436 test loss 1.0949297\n",
      "epoch 2 train loss 1.1570208 test loss 1.0022657\n",
      "epoch 3 train loss 1.0559303 test loss 0.9164139\n",
      "epoch 4 train loss 0.9636693 test loss 0.83816373\n",
      "epoch 5 train loss 0.8793467 test loss 0.76706326\n",
      "epoch 6 train loss 0.80315906 test loss 0.7019204\n",
      "epoch 7 train loss 0.7336484 test loss 0.6424577\n",
      "epoch 8 train loss 0.67025125 test loss 0.5879344\n",
      "epoch 9 train loss 0.6119514 test loss 0.5387988\n",
      "epoch 10 train loss 0.55762887 test loss 0.4944045\n",
      "epoch 11 train loss 0.50732195 test loss 0.45310882\n",
      "epoch 12 train loss 0.4607651 test loss 0.4156122\n",
      "epoch 13 train loss 0.4174266 test loss 0.38085276\n",
      "epoch 14 train loss 0.37726364 test loss 0.34918484\n",
      "epoch 15 train loss 0.34004003 test loss 0.3199846\n",
      "epoch 16 train loss 0.30558586 test loss 0.29302126\n",
      "epoch 17 train loss 0.27373987 test loss 0.2676971\n",
      "epoch 18 train loss 0.24460381 test loss 0.24474242\n",
      "epoch 19 train loss 0.21829379 test loss 0.22383524\n",
      "epoch 20 train loss 0.19458541 test loss 0.20514853\n",
      "epoch 21 train loss 0.17349693 test loss 0.18829963\n",
      "epoch 22 train loss 0.15500164 test loss 0.17322063\n",
      "epoch 23 train loss 0.13909729 test loss 0.16006717\n",
      "epoch 24 train loss 0.12556227 test loss 0.14879191\n",
      "epoch 25 train loss 0.11414887 test loss 0.13918424\n",
      "epoch 26 train loss 0.10474976 test loss 0.13105118\n",
      "epoch 27 train loss 0.09720325 test loss 0.12403442\n",
      "epoch 28 train loss 0.09115242 test loss 0.118222825\n",
      "epoch 29 train loss 0.086331174 test loss 0.113448836\n",
      "epoch 30 train loss 0.082484454 test loss 0.10954605\n",
      "epoch 31 train loss 0.07945878 test loss 0.106186554\n",
      "epoch 32 train loss 0.07710009 test loss 0.103291504\n",
      "epoch 33 train loss 0.075248174 test loss 0.1007725\n",
      "epoch 34 train loss 0.07375083 test loss 0.09851161\n",
      "epoch 35 train loss 0.07251209 test loss 0.09640968\n",
      "epoch 36 train loss 0.071457945 test loss 0.09444028\n",
      "epoch 37 train loss 0.070501335 test loss 0.09252909\n",
      "epoch 38 train loss 0.06961797 test loss 0.09065431\n",
      "epoch 39 train loss 0.06875893 test loss 0.08880741\n",
      "epoch 40 train loss 0.06788985 test loss 0.086966045\n",
      "epoch 41 train loss 0.06697416 test loss 0.08507992\n",
      "epoch 42 train loss 0.065998994 test loss 0.08317175\n",
      "epoch 43 train loss 0.064947635 test loss 0.08124811\n",
      "epoch 44 train loss 0.06381971 test loss 0.07931644\n",
      "epoch 45 train loss 0.06261141 test loss 0.07737093\n",
      "epoch 46 train loss 0.06131339 test loss 0.07537116\n",
      "epoch 47 train loss 0.059940662 test loss 0.073358536\n",
      "epoch 48 train loss 0.058514 test loss 0.07136601\n",
      "epoch 49 train loss 0.05701774 test loss 0.06943086\n"
     ]
    }
   ],
   "source": [
    "init = tf.global_variables_initializer()\n",
    "\n",
    "with tf.Session() as sess:\n",
    "    init.run()\n",
    "    \n",
    "    for epoch in range(50):\n",
    "        sess.run(training_run, feed_dict={X: X_train, y: y_train})\n",
    "        train_loss = sess.run(loss, feed_dict={X: X_train, y: y_train})\n",
    "        test_loss = sess.run(loss, feed_dict={X: X_test, y: y_test})\n",
    "        print('epoch', epoch, 'train loss', train_loss, 'test loss', test_loss)"
   ]
  },
  {
   "cell_type": "code",
   "execution_count": 33,
   "metadata": {},
   "outputs": [
    {
     "name": "stdout",
     "output_type": "stream",
     "text": [
      "epoch 0 train loss 2.5198877 test loss 2.7168548\n",
      "epoch 10 train loss 0.6888163 test loss 0.8710682\n",
      "epoch 20 train loss 0.16752553 test loss 0.23647504\n",
      "epoch 30 train loss 0.12541309 test loss 0.13607775\n",
      "epoch 40 train loss 0.07443155 test loss 0.0939879\n",
      "epoch 50 train loss 0.055670165 test loss 0.07901169\n",
      "epoch 60 train loss 0.043052107 test loss 0.06090805\n",
      "epoch 70 train loss 0.03506911 test loss 0.04629752\n",
      "epoch 80 train loss 0.02863838 test loss 0.037959397\n",
      "epoch 90 train loss 0.022983216 test loss 0.032899108\n",
      "epoch 100 train loss 0.018670894 test loss 0.028099585\n",
      "epoch 110 train loss 0.015048274 test loss 0.023327809\n",
      "epoch 120 train loss 0.012209555 test loss 0.019437417\n",
      "epoch 130 train loss 0.0099630235 test loss 0.016355589\n",
      "epoch 140 train loss 0.008217794 test loss 0.0137767885\n",
      "epoch 150 train loss 0.006901889 test loss 0.011634432\n",
      "epoch 160 train loss 0.0058881207 test loss 0.009928616\n",
      "epoch 170 train loss 0.005113804 test loss 0.008594991\n",
      "epoch 180 train loss 0.0045244964 test loss 0.007514617\n",
      "epoch 190 train loss 0.0040534614 test loss 0.006675818\n"
     ]
    }
   ],
   "source": [
    "init = tf.global_variables_initializer()\n",
    "\n",
    "train_errs = []\n",
    "test_errs = []\n",
    "with tf.Session() as sess:\n",
    "    init.run()\n",
    "    \n",
    "    for epoch in range(200):\n",
    "        # training is here\n",
    "        sess.run(training_run, feed_dict={X: X_train, y: y_train})\n",
    "        \n",
    "        # Calculate train loss\n",
    "        train_loss = sess.run(loss, feed_dict={X: X_train, y: y_train})\n",
    "        train_errs.append(train_loss)\n",
    "        \n",
    "        # Calculate test loss\n",
    "        test_loss = sess.run(loss, feed_dict={X: X_test, y: y_test})\n",
    "        test_errs.append(test_loss)\n",
    "        \n",
    "        # Print losses\n",
    "        if epoch %10==0:\n",
    "            print('epoch', epoch, 'train loss', train_loss, 'test loss', test_loss)\n",
    "    pred = sess.run(output, feed_dict={X: X_test})"
   ]
  },
  {
   "cell_type": "code",
   "execution_count": 34,
   "metadata": {},
   "outputs": [
    {
     "data": {
      "text/plain": [
       "0.8665988417625228"
      ]
     },
     "execution_count": 34,
     "metadata": {},
     "output_type": "execute_result"
    }
   ],
   "source": [
    "# Evaluate r^2\n",
    "metrics.r2_score(y_test, pred)"
   ]
  },
  {
   "cell_type": "code",
   "execution_count": 35,
   "metadata": {},
   "outputs": [
    {
     "data": {
      "text/plain": [
       "[<matplotlib.lines.Line2D at 0x13560eb38>]"
      ]
     },
     "execution_count": 35,
     "metadata": {},
     "output_type": "execute_result"
    },
    {
     "data": {
      "image/png": "[encoded data removed]",
      "text/plain": [
       "<matplotlib.figure.Figure at 0x13560eb70>"
      ]
     },
     "metadata": {},
     "output_type": "display_data"
    }
   ],
   "source": [
    "# Plot the learning curves\n",
    "plt.plot(train_errs, label='Train loss')\n",
    "plt.plot(test_errs, label=\"Test loss\")"
   ]
  },
  {
   "cell_type": "code",
   "execution_count": 36,
   "metadata": {},
   "outputs": [
    {
     "data": {
      "text/plain": [
       "0.0061204543894298235"
      ]
     },
     "execution_count": 36,
     "metadata": {},
     "output_type": "execute_result"
    }
   ],
   "source": [
    "mean_squared_error(y_test, pred)"
   ]
  },
  {
   "cell_type": "code",
   "execution_count": 41,
   "metadata": {},
   "outputs": [
    {
     "data": {
      "image/png": "[encoded data removed]",
      "text/plain": [
       "<matplotlib.figure.Figure at 0x1358eba90>"
      ]
     },
     "metadata": {},
     "output_type": "display_data"
    }
   ],
   "source": [
    "plt.scatter(y_test, pred, s=15, alpha=0.5, label=\"experiment vs predicted for 'Bob' \", color=\"red\")\n",
    "plt.xlabel(\"y_test\")\n",
    "plt.ylabel(\"y_predicted\")\n",
    "plt.legend(loc='upper left')\n",
    "plt.xlim([0,plt.xlim()[1]])\n",
    "plt.ylim([0,plt.ylim()[1]])\n",
    "_ = plt.plot([0, 2], [0, 2])\n",
    "plt.show()"
   ]
  },
  {
   "cell_type": "code",
   "execution_count": 42,
   "metadata": {},
   "outputs": [],
   "source": [
    "df=pd.DataFrame({'y_test':[y_test[i][0] for i in range(len(y_test))],\n",
    "                 'pred':[pred[i][0] for i in range(len(pred))]}, \n",
    "                index=[x for x in range(len(pred))])"
   ]
  },
  {
   "cell_type": "code",
   "execution_count": 43,
   "metadata": {},
   "outputs": [
    {
     "data": {
      "text/html": [
       "<div>\n",
       "<style scoped>\n",
       "    .dataframe tbody tr th:only-of-type {\n",
       "        vertical-align: middle;\n",
       "    }\n",
       "\n",
       "    .dataframe tbody tr th {\n",
       "        vertical-align: top;\n",
       "    }\n",
       "\n",
       "    .dataframe thead th {\n",
       "        text-align: right;\n",
       "    }\n",
       "</style>\n",
       "<table border=\"1\" class=\"dataframe\">\n",
       "  <thead>\n",
       "    <tr style=\"text-align: right;\">\n",
       "      <th></th>\n",
       "      <th>y_test</th>\n",
       "      <th>pred</th>\n",
       "    </tr>\n",
       "  </thead>\n",
       "  <tbody>\n",
       "    <tr>\n",
       "      <th>count</th>\n",
       "      <td>64.000000</td>\n",
       "      <td>64.000000</td>\n",
       "    </tr>\n",
       "    <tr>\n",
       "      <th>mean</th>\n",
       "      <td>1.352656</td>\n",
       "      <td>1.332564</td>\n",
       "    </tr>\n",
       "    <tr>\n",
       "      <th>std</th>\n",
       "      <td>0.215890</td>\n",
       "      <td>0.223390</td>\n",
       "    </tr>\n",
       "    <tr>\n",
       "      <th>min</th>\n",
       "      <td>1.047000</td>\n",
       "      <td>0.982968</td>\n",
       "    </tr>\n",
       "    <tr>\n",
       "      <th>25%</th>\n",
       "      <td>1.180250</td>\n",
       "      <td>1.173045</td>\n",
       "    </tr>\n",
       "    <tr>\n",
       "      <th>50%</th>\n",
       "      <td>1.323000</td>\n",
       "      <td>1.308464</td>\n",
       "    </tr>\n",
       "    <tr>\n",
       "      <th>75%</th>\n",
       "      <td>1.461250</td>\n",
       "      <td>1.450540</td>\n",
       "    </tr>\n",
       "    <tr>\n",
       "      <th>max</th>\n",
       "      <td>1.954000</td>\n",
       "      <td>2.021178</td>\n",
       "    </tr>\n",
       "  </tbody>\n",
       "</table>\n",
       "</div>"
      ],
      "text/plain": [
       "          y_test       pred\n",
       "count  64.000000  64.000000\n",
       "mean    1.352656   1.332564\n",
       "std     0.215890   0.223390\n",
       "min     1.047000   0.982968\n",
       "25%     1.180250   1.173045\n",
       "50%     1.323000   1.308464\n",
       "75%     1.461250   1.450540\n",
       "max     1.954000   2.021178"
      ]
     },
     "execution_count": 43,
     "metadata": {},
     "output_type": "execute_result"
    }
   ],
   "source": [
    "df.describe()"
   ]
  },
  {
   "cell_type": "code",
   "execution_count": null,
   "metadata": {},
   "outputs": [],
   "source": []
  }
 ],
 "metadata": {
  "kernelspec": {
   "display_name": "Python 3",
   "language": "python",
   "name": "python3"
  },
  "language_info": {
   "codemirror_mode": {
    "name": "ipython",
    "version": 3
   },
   "file_extension": ".py",
   "mimetype": "text/x-python",
   "name": "python",
   "nbconvert_exporter": "python",
   "pygments_lexer": "ipython3",
   "version": "3.6.3"
  }
 },
 "nbformat": 4,
 "nbformat_minor": 2
}
