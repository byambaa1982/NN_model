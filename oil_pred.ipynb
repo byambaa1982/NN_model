{
 "cells": [
  {
   "cell_type": "markdown",
   "metadata": {},
   "source": [
    "#      ANN MODEL FOR PREDICTION OF BUBBLE POINT\n",
    "#                          PRESSURE OF CRUDE OILS"
   ]
  },
  {
   "cell_type": "code",
   "execution_count": null,
   "metadata": {},
   "outputs": [],
   "source": [
    "## ALL LIBRARIES USED HERE"
   ]
  },
  {
   "cell_type": "code",
   "execution_count": 48,
   "metadata": {},
   "outputs": [],
   "source": [
    "import tensorflow as tf\n",
    "\n",
    "from sklearn.model_selection import train_test_split\n",
    "from sklearn.preprocessing import StandardScaler\n",
    "from sklearn import metrics\n",
    "\n",
    "import matplotlib.pyplot as plt\n",
    "import seaborn as sns\n",
    "import matplotlib\n",
    "import matplotlib.pyplot as plt\n",
    "%matplotlib inline"
   ]
  },
  {
   "cell_type": "code",
   "execution_count": 2,
   "metadata": {},
   "outputs": [],
   "source": [
    "import pandas as pd"
   ]
  },
  {
   "cell_type": "code",
   "execution_count": null,
   "metadata": {},
   "outputs": [],
   "source": [
    "# ---------------EXCEL DATA---------------"
   ]
  },
  {
   "cell_type": "code",
   "execution_count": 17,
   "metadata": {},
   "outputs": [],
   "source": [
    "data = pd.read_excel('Simulation Data (1).xlsx')"
   ]
  },
  {
   "cell_type": "code",
   "execution_count": 18,
   "metadata": {},
   "outputs": [
    {
     "data": {
      "text/html": [
       "<div>\n",
       "<style scoped>\n",
       "    .dataframe tbody tr th:only-of-type {\n",
       "        vertical-align: middle;\n",
       "    }\n",
       "\n",
       "    .dataframe tbody tr th {\n",
       "        vertical-align: top;\n",
       "    }\n",
       "\n",
       "    .dataframe thead th {\n",
       "        text-align: right;\n",
       "    }\n",
       "</style>\n",
       "<table border=\"1\" class=\"dataframe\">\n",
       "  <thead>\n",
       "    <tr style=\"text-align: right;\">\n",
       "      <th></th>\n",
       "      <th>GOR</th>\n",
       "      <th>Oil gravity</th>\n",
       "      <th>Gas gravity</th>\n",
       "      <th>T</th>\n",
       "      <th>Pb</th>\n",
       "      <th>Bob</th>\n",
       "    </tr>\n",
       "  </thead>\n",
       "  <tbody>\n",
       "    <tr>\n",
       "      <th>0</th>\n",
       "      <td>1507</td>\n",
       "      <td>0.951</td>\n",
       "      <td>39.3</td>\n",
       "      <td>225</td>\n",
       "      <td>3573.0</td>\n",
       "      <td>1.875</td>\n",
       "    </tr>\n",
       "    <tr>\n",
       "      <th>1</th>\n",
       "      <td>898</td>\n",
       "      <td>0.802</td>\n",
       "      <td>32.7</td>\n",
       "      <td>175</td>\n",
       "      <td>3571.0</td>\n",
       "      <td>1.471</td>\n",
       "    </tr>\n",
       "    <tr>\n",
       "      <th>2</th>\n",
       "      <td>898</td>\n",
       "      <td>0.802</td>\n",
       "      <td>32.7</td>\n",
       "      <td>150</td>\n",
       "      <td>3426.0</td>\n",
       "      <td>1.451</td>\n",
       "    </tr>\n",
       "    <tr>\n",
       "      <th>3</th>\n",
       "      <td>1579</td>\n",
       "      <td>0.930</td>\n",
       "      <td>42.8</td>\n",
       "      <td>235</td>\n",
       "      <td>3405.0</td>\n",
       "      <td>1.997</td>\n",
       "    </tr>\n",
       "    <tr>\n",
       "      <th>4</th>\n",
       "      <td>825</td>\n",
       "      <td>0.779</td>\n",
       "      <td>34.2</td>\n",
       "      <td>185</td>\n",
       "      <td>3354.0</td>\n",
       "      <td>1.431</td>\n",
       "    </tr>\n",
       "  </tbody>\n",
       "</table>\n",
       "</div>"
      ],
      "text/plain": [
       "    GOR  Oil gravity  Gas gravity    T      Pb    Bob\n",
       "0  1507        0.951         39.3  225  3573.0  1.875\n",
       "1   898        0.802         32.7  175  3571.0  1.471\n",
       "2   898        0.802         32.7  150  3426.0  1.451\n",
       "3  1579        0.930         42.8  235  3405.0  1.997\n",
       "4   825        0.779         34.2  185  3354.0  1.431"
      ]
     },
     "execution_count": 18,
     "metadata": {},
     "output_type": "execute_result"
    }
   ],
   "source": [
    "data.head()"
   ]
  },
  {
   "cell_type": "code",
   "execution_count": 1,
   "metadata": {},
   "outputs": [],
   "source": [
    "#----------------   SPLIT DATA FOR TRAIN AND TEST ----------------"
   ]
  },
  {
   "cell_type": "code",
   "execution_count": 21,
   "metadata": {
    "scrolled": true
   },
   "outputs": [
    {
     "name": "stderr",
     "output_type": "stream",
     "text": [
      "/Users/enkhbat/miniconda3/lib/python3.6/site-packages/sklearn/preprocessing/data.py:645: DataConversionWarning: Data with input dtype int64, float64 were all converted to float64 by StandardScaler.\n",
      "  return self.partial_fit(X, y)\n",
      "/Users/enkhbat/miniconda3/lib/python3.6/site-packages/sklearn/base.py:464: DataConversionWarning: Data with input dtype int64, float64 were all converted to float64 by StandardScaler.\n",
      "  return self.fit(X, **fit_params).transform(X)\n",
      "/Users/enkhbat/miniconda3/lib/python3.6/site-packages/ipykernel_launcher.py:4: DataConversionWarning: Data with input dtype int64, float64 were all converted to float64 by StandardScaler.\n",
      "  after removing the cwd from sys.path.\n"
     ]
    }
   ],
   "source": [
    "X_train, X_test, y_train, y_test =train_test_split(data[['GOR', 'Oil gravity', 'Gas gravity', 'T']], data.Pb)\n",
    "ss=StandardScaler()\n",
    "X_train=ss.fit_transform(X_train)\n",
    "X_test=ss.transform(X_test)"
   ]
  },
  {
   "cell_type": "code",
   "execution_count": 24,
   "metadata": {},
   "outputs": [],
   "source": [
    "# reshape no matter how many col it became 1\n",
    "y_train=y_train.values.reshape(-1,1)\n",
    "y_test=y_test.values.reshape(-1,1)"
   ]
  },
  {
   "cell_type": "code",
   "execution_count": 15,
   "metadata": {},
   "outputs": [
    {
     "data": {
      "text/plain": [
       "(64, 4)"
      ]
     },
     "execution_count": 15,
     "metadata": {},
     "output_type": "execute_result"
    }
   ],
   "source": [
    "X_test.shape"
   ]
  },
  {
   "cell_type": "code",
   "execution_count": 12,
   "metadata": {},
   "outputs": [],
   "source": [
    "tf.reset_default_graph()\n",
    "\n",
    "X=tf.placeholder(dtype=tf.float32, shape=(None,4), name='X' )\n",
    "y=tf.placeholder(dtype=tf.float32, shape=(None,1), name='y' )\n",
    "\n",
    "# setup hidden layer. data, neuron act func name\n",
    "h1=tf.layers.dense(X,8, activation=tf.nn.relu, name='hidden1')\n",
    "\n",
    "# output layer\n",
    "\n",
    "output=tf.layers.dense(h1, 1, activation=None, name='output')\n",
    "\n",
    "loss=tf.losses.mean_squared_error(y, output)\n",
    "optimizer=tf.train.AdamOptimizer(.01)\n",
    "\n",
    "training_run=optimizer.minimize(loss)"
   ]
  },
  {
   "cell_type": "code",
   "execution_count": null,
   "metadata": {},
   "outputs": [],
   "source": [
    "#---------- ITERATED 50 EPOCH ----------------"
   ]
  },
  {
   "cell_type": "code",
   "execution_count": 26,
   "metadata": {},
   "outputs": [
    {
     "name": "stdout",
     "output_type": "stream",
     "text": [
      "epoch 0 train loss 4388963.5 test loss 4397765.0\n",
      "epoch 1 train loss 4388692.5 test loss 4397495.0\n",
      "epoch 2 train loss 4388427.5 test loss 4397229.0\n",
      "epoch 3 train loss 4388164.0 test loss 4396966.0\n",
      "epoch 4 train loss 4387904.5 test loss 4396704.0\n",
      "epoch 5 train loss 4387647.0 test loss 4396446.0\n",
      "epoch 6 train loss 4387394.5 test loss 4396190.0\n",
      "epoch 7 train loss 4387142.0 test loss 4395933.0\n",
      "epoch 8 train loss 4386890.0 test loss 4395675.0\n",
      "epoch 9 train loss 4386637.0 test loss 4395416.0\n",
      "epoch 10 train loss 4386382.0 test loss 4395155.0\n",
      "epoch 11 train loss 4386124.0 test loss 4394893.0\n",
      "epoch 12 train loss 4385863.0 test loss 4394628.0\n",
      "epoch 13 train loss 4385597.5 test loss 4394360.0\n",
      "epoch 14 train loss 4385327.5 test loss 4394089.5\n",
      "epoch 15 train loss 4385054.0 test loss 4393818.0\n",
      "epoch 16 train loss 4384776.0 test loss 4393543.0\n",
      "epoch 17 train loss 4384494.5 test loss 4393263.0\n",
      "epoch 18 train loss 4384207.5 test loss 4392977.0\n",
      "epoch 19 train loss 4383913.5 test loss 4392685.5\n",
      "epoch 20 train loss 4383615.0 test loss 4392388.0\n",
      "epoch 21 train loss 4383310.0 test loss 4392085.0\n",
      "epoch 22 train loss 4382997.5 test loss 4391776.0\n",
      "epoch 23 train loss 4382678.0 test loss 4391461.0\n",
      "epoch 24 train loss 4382352.5 test loss 4391139.0\n",
      "epoch 25 train loss 4382019.0 test loss 4390809.0\n",
      "epoch 26 train loss 4381677.5 test loss 4390472.0\n",
      "epoch 27 train loss 4381329.5 test loss 4390127.5\n",
      "epoch 28 train loss 4380971.5 test loss 4389774.0\n",
      "epoch 29 train loss 4380605.5 test loss 4389413.0\n",
      "epoch 30 train loss 4380230.5 test loss 4389043.5\n",
      "epoch 31 train loss 4379846.0 test loss 4388665.0\n",
      "epoch 32 train loss 4379452.0 test loss 4388274.5\n",
      "epoch 33 train loss 4379048.5 test loss 4387872.5\n",
      "epoch 34 train loss 4378635.5 test loss 4387460.0\n",
      "epoch 35 train loss 4378212.5 test loss 4387037.5\n",
      "epoch 36 train loss 4377779.5 test loss 4386604.0\n",
      "epoch 37 train loss 4377337.0 test loss 4386160.0\n",
      "epoch 38 train loss 4376881.0 test loss 4385704.0\n",
      "epoch 39 train loss 4376414.0 test loss 4385236.0\n",
      "epoch 40 train loss 4375936.5 test loss 4384756.0\n",
      "epoch 41 train loss 4375446.5 test loss 4384265.0\n",
      "epoch 42 train loss 4374945.0 test loss 4383763.0\n",
      "epoch 43 train loss 4374432.0 test loss 4383248.0\n",
      "epoch 44 train loss 4373907.5 test loss 4382721.0\n",
      "epoch 45 train loss 4373370.0 test loss 4382179.0\n",
      "epoch 46 train loss 4372821.5 test loss 4381624.0\n",
      "epoch 47 train loss 4372261.0 test loss 4381057.0\n",
      "epoch 48 train loss 4371685.0 test loss 4380478.0\n",
      "epoch 49 train loss 4371096.5 test loss 4379886.0\n"
     ]
    }
   ],
   "source": [
    "init = tf.global_variables_initializer()\n",
    "\n",
    "with tf.Session() as sess:\n",
    "    init.run()\n",
    "    \n",
    "    for epoch in range(50):\n",
    "        sess.run(training_run, feed_dict={X: X_train, y: y_train})\n",
    "        train_loss = sess.run(loss, feed_dict={X: X_train, y: y_train})\n",
    "        test_loss = sess.run(loss, feed_dict={X: X_test, y: y_test})\n",
    "        print('epoch', epoch, 'train loss', train_loss, 'test loss', test_loss)"
   ]
  },
  {
   "cell_type": "code",
   "execution_count": 2,
   "metadata": {},
   "outputs": [],
   "source": [
    "#-----------5000 epoch iteration ---------------"
   ]
  },
  {
   "cell_type": "code",
   "execution_count": 36,
   "metadata": {},
   "outputs": [
    {
     "name": "stdout",
     "output_type": "stream",
     "text": [
      "epoch 0 train loss 4390502.0 test loss 4399422.0\n",
      "epoch 10 train loss 4387767.0 test loss 4396779.0\n",
      "epoch 20 train loss 4385085.5 test loss 4394196.0\n",
      "epoch 30 train loss 4382127.0 test loss 4391328.0\n",
      "epoch 40 train loss 4378543.0 test loss 4387844.5\n",
      "epoch 50 train loss 4374052.5 test loss 4383474.0\n",
      "epoch 60 train loss 4368535.5 test loss 4378070.0\n",
      "epoch 70 train loss 4361903.0 test loss 4371526.0\n",
      "epoch 80 train loss 4354100.0 test loss 4363815.0\n",
      "epoch 90 train loss 4345090.0 test loss 4354881.0\n",
      "epoch 100 train loss 4334840.0 test loss 4344701.0\n",
      "epoch 110 train loss 4323328.5 test loss 4333265.5\n",
      "epoch 120 train loss 4310547.0 test loss 4320555.5\n",
      "epoch 130 train loss 4296446.0 test loss 4306536.0\n",
      "epoch 140 train loss 4280938.5 test loss 4291091.0\n",
      "epoch 150 train loss 4263824.0 test loss 4274016.0\n",
      "epoch 160 train loss 4244774.5 test loss 4255029.0\n",
      "epoch 170 train loss 4223383.0 test loss 4233829.5\n",
      "epoch 180 train loss 4199724.0 test loss 4210358.0\n",
      "epoch 190 train loss 4174018.2 test loss 4184768.2\n",
      "epoch 200 train loss 4146436.0 test loss 4157188.0\n",
      "epoch 210 train loss 4117066.8 test loss 4127756.0\n",
      "epoch 220 train loss 4086015.2 test loss 4096569.5\n",
      "epoch 230 train loss 4053429.8 test loss 4063751.2\n",
      "epoch 240 train loss 4019407.2 test loss 4029455.5\n",
      "epoch 250 train loss 3984022.8 test loss 3993758.0\n",
      "epoch 260 train loss 3947382.8 test loss 3956714.5\n",
      "epoch 270 train loss 3909561.0 test loss 3918375.0\n",
      "epoch 280 train loss 3870637.5 test loss 3878863.0\n",
      "epoch 290 train loss 3830717.8 test loss 3838272.5\n",
      "epoch 300 train loss 3789864.0 test loss 3796669.8\n",
      "epoch 310 train loss 3748160.8 test loss 3754082.0\n",
      "epoch 320 train loss 3705666.2 test loss 3710581.0\n",
      "epoch 330 train loss 3662416.0 test loss 3666253.8\n",
      "epoch 340 train loss 3618500.8 test loss 3621165.0\n",
      "epoch 350 train loss 3573967.0 test loss 3575366.8\n",
      "epoch 360 train loss 3528874.2 test loss 3528933.5\n",
      "epoch 370 train loss 3483295.5 test loss 3481929.5\n",
      "epoch 380 train loss 3437283.0 test loss 3434382.5\n",
      "epoch 390 train loss 3390845.0 test loss 3386370.5\n",
      "epoch 400 train loss 3344048.5 test loss 3337946.0\n",
      "epoch 410 train loss 3296928.8 test loss 3289165.5\n",
      "epoch 420 train loss 3249527.8 test loss 3240079.5\n",
      "epoch 430 train loss 3201891.0 test loss 3190739.0\n",
      "epoch 440 train loss 3154053.8 test loss 3141177.5\n",
      "epoch 450 train loss 3106050.8 test loss 3091459.0\n",
      "epoch 460 train loss 3057902.8 test loss 3041601.0\n",
      "epoch 470 train loss 3009637.0 test loss 2991647.0\n",
      "epoch 480 train loss 2961280.8 test loss 2941618.5\n",
      "epoch 490 train loss 2912865.5 test loss 2891579.5\n",
      "epoch 500 train loss 2864417.2 test loss 2841517.0\n",
      "epoch 510 train loss 2815976.0 test loss 2791530.0\n",
      "epoch 520 train loss 2767580.8 test loss 2741660.5\n",
      "epoch 530 train loss 2719265.8 test loss 2691934.0\n",
      "epoch 540 train loss 2671052.2 test loss 2642387.2\n",
      "epoch 550 train loss 2622965.2 test loss 2593030.0\n",
      "epoch 560 train loss 2575049.2 test loss 2543918.0\n",
      "epoch 570 train loss 2527349.8 test loss 2495094.0\n",
      "epoch 580 train loss 2479897.2 test loss 2446568.5\n",
      "epoch 590 train loss 2432732.8 test loss 2398271.0\n",
      "epoch 600 train loss 2385878.0 test loss 2350211.2\n",
      "epoch 610 train loss 2339301.0 test loss 2302486.2\n",
      "epoch 620 train loss 2292950.5 test loss 2254994.2\n",
      "epoch 630 train loss 2246856.5 test loss 2207765.2\n",
      "epoch 640 train loss 2201053.8 test loss 2160842.8\n",
      "epoch 650 train loss 2155594.8 test loss 2114282.8\n",
      "epoch 660 train loss 2110522.8 test loss 2068127.1\n",
      "epoch 670 train loss 2065904.2 test loss 2022433.9\n",
      "epoch 680 train loss 2021707.6 test loss 1977218.0\n",
      "epoch 690 train loss 1977982.5 test loss 1932488.5\n",
      "epoch 700 train loss 1934777.8 test loss 1888290.5\n",
      "epoch 710 train loss 1892121.2 test loss 1844653.0\n",
      "epoch 720 train loss 1850000.6 test loss 1801585.0\n",
      "epoch 730 train loss 1808436.9 test loss 1759050.8\n",
      "epoch 740 train loss 1767468.9 test loss 1717112.5\n",
      "epoch 750 train loss 1727117.2 test loss 1675800.2\n",
      "epoch 760 train loss 1687398.8 test loss 1635132.2\n",
      "epoch 770 train loss 1648329.6 test loss 1595077.8\n",
      "epoch 780 train loss 1609923.2 test loss 1555639.2\n",
      "epoch 790 train loss 1572184.2 test loss 1516885.8\n",
      "epoch 800 train loss 1535072.6 test loss 1478794.8\n",
      "epoch 810 train loss 1498641.2 test loss 1441350.2\n",
      "epoch 820 train loss 1462912.0 test loss 1404597.9\n",
      "epoch 830 train loss 1427879.6 test loss 1368570.0\n",
      "epoch 840 train loss 1393481.2 test loss 1333230.9\n",
      "epoch 850 train loss 1359631.4 test loss 1298508.4\n",
      "epoch 860 train loss 1326439.2 test loss 1264436.5\n",
      "epoch 870 train loss 1293819.4 test loss 1231037.0\n",
      "epoch 880 train loss 1261810.0 test loss 1198270.9\n",
      "epoch 890 train loss 1230529.6 test loss 1166248.0\n",
      "epoch 900 train loss 1200010.0 test loss 1135017.0\n",
      "epoch 910 train loss 1170258.0 test loss 1104596.0\n",
      "epoch 920 train loss 1141254.8 test loss 1074972.2\n",
      "epoch 930 train loss 1113027.4 test loss 1046158.75\n",
      "epoch 940 train loss 1085548.1 test loss 1018148.75\n",
      "epoch 950 train loss 1058844.1 test loss 990947.25\n",
      "epoch 960 train loss 1032921.06 test loss 964565.4\n",
      "epoch 970 train loss 1007779.1 test loss 938994.0\n",
      "epoch 980 train loss 983409.4 test loss 914208.0\n",
      "epoch 990 train loss 959754.2 test loss 890196.9\n",
      "epoch 1000 train loss 936849.94 test loss 866962.2\n",
      "epoch 1010 train loss 914678.25 test loss 844511.7\n",
      "epoch 1020 train loss 893107.4 test loss 822770.0\n",
      "epoch 1030 train loss 872102.1 test loss 801588.44\n",
      "epoch 1040 train loss 851790.5 test loss 781055.9\n",
      "epoch 1050 train loss 832185.6 test loss 761283.1\n",
      "epoch 1060 train loss 813157.75 test loss 742203.6\n",
      "epoch 1070 train loss 794686.6 test loss 723773.06\n",
      "epoch 1080 train loss 776813.8 test loss 705898.0\n",
      "epoch 1090 train loss 759351.4 test loss 688582.4\n",
      "epoch 1100 train loss 742269.4 test loss 671662.75\n",
      "epoch 1110 train loss 725665.5 test loss 655289.44\n",
      "epoch 1120 train loss 709592.5 test loss 639513.94\n",
      "epoch 1130 train loss 694086.9 test loss 624365.1\n",
      "epoch 1140 train loss 679033.9 test loss 609680.0\n",
      "epoch 1150 train loss 664515.2 test loss 595547.75\n",
      "epoch 1160 train loss 650568.9 test loss 582061.94\n",
      "epoch 1170 train loss 637104.94 test loss 569190.56\n",
      "epoch 1180 train loss 624206.1 test loss 556935.56\n",
      "epoch 1190 train loss 611889.8 test loss 545318.4\n",
      "epoch 1200 train loss 600090.56 test loss 534293.4\n",
      "epoch 1210 train loss 588792.75 test loss 523829.1\n",
      "epoch 1220 train loss 578033.1 test loss 513899.75\n",
      "epoch 1230 train loss 567810.9 test loss 504512.2\n",
      "epoch 1240 train loss 558107.6 test loss 495673.78\n",
      "epoch 1250 train loss 548901.2 test loss 487358.9\n",
      "epoch 1260 train loss 540136.44 test loss 479530.56\n",
      "epoch 1270 train loss 531796.06 test loss 472151.47\n",
      "epoch 1280 train loss 523829.53 test loss 465190.7\n",
      "epoch 1290 train loss 516259.84 test loss 458634.78\n",
      "epoch 1300 train loss 509079.03 test loss 452476.12\n",
      "epoch 1310 train loss 502271.12 test loss 446689.5\n",
      "epoch 1320 train loss 495818.03 test loss 441262.6\n",
      "epoch 1330 train loss 489692.75 test loss 436178.56\n",
      "epoch 1340 train loss 483853.03 test loss 431396.47\n",
      "epoch 1350 train loss 478308.75 test loss 426909.94\n",
      "epoch 1360 train loss 473050.16 test loss 422712.03\n",
      "epoch 1370 train loss 468063.3 test loss 418788.62\n",
      "epoch 1380 train loss 463333.25 test loss 415123.44\n",
      "epoch 1390 train loss 458830.0 test loss 411695.7\n",
      "epoch 1400 train loss 454534.1 test loss 408479.78\n",
      "epoch 1410 train loss 450431.88 test loss 405467.88\n",
      "epoch 1420 train loss 446515.3 test loss 402646.56\n",
      "epoch 1430 train loss 442763.06 test loss 399993.06\n",
      "epoch 1440 train loss 439183.56 test loss 397503.72\n",
      "epoch 1450 train loss 435759.72 test loss 395172.62\n",
      "epoch 1460 train loss 432480.44 test loss 392984.56\n",
      "epoch 1470 train loss 429330.97 test loss 390929.66\n",
      "epoch 1480 train loss 426316.4 test loss 389002.1\n",
      "epoch 1490 train loss 423431.84 test loss 387196.7\n",
      "epoch 1500 train loss 420669.88 test loss 385504.84\n",
      "epoch 1510 train loss 418023.28 test loss 383917.7\n",
      "epoch 1520 train loss 415450.78 test loss 382420.1\n",
      "epoch 1530 train loss 412966.94 test loss 381003.38\n",
      "epoch 1540 train loss 410574.3 test loss 379665.4\n",
      "epoch 1550 train loss 408269.72 test loss 378401.28\n",
      "epoch 1560 train loss 406048.16 test loss 377205.06\n",
      "epoch 1570 train loss 403904.7 test loss 376071.25\n",
      "epoch 1580 train loss 401826.53 test loss 374992.5\n",
      "epoch 1590 train loss 399780.16 test loss 373958.06\n",
      "epoch 1600 train loss 397788.56 test loss 372967.38\n",
      "epoch 1610 train loss 395855.25 test loss 372020.38\n",
      "epoch 1620 train loss 393978.72 test loss 371114.03\n",
      "epoch 1630 train loss 392142.2 test loss 370242.38\n",
      "epoch 1640 train loss 390308.66 test loss 369380.53\n",
      "epoch 1650 train loss 388506.0 test loss 368532.94\n",
      "epoch 1660 train loss 386741.34 test loss 367705.3\n",
      "epoch 1670 train loss 385015.4 test loss 366898.5\n",
      "epoch 1680 train loss 383327.16 test loss 366111.44\n",
      "epoch 1690 train loss 381674.88 test loss 365342.8\n",
      "epoch 1700 train loss 380056.8 test loss 364591.0\n",
      "epoch 1710 train loss 378471.06 test loss 363854.38\n",
      "epoch 1720 train loss 376916.1 test loss 363131.44\n",
      "epoch 1730 train loss 375383.06 test loss 362418.2\n"
     ]
    },
    {
     "name": "stdout",
     "output_type": "stream",
     "text": [
      "epoch 1740 train loss 373858.4 test loss 361677.38\n",
      "epoch 1750 train loss 372355.44 test loss 360943.88\n",
      "epoch 1760 train loss 370876.3 test loss 360218.1\n",
      "epoch 1770 train loss 369401.06 test loss 359493.5\n",
      "epoch 1780 train loss 367906.06 test loss 358755.44\n",
      "epoch 1790 train loss 366408.0 test loss 357981.03\n",
      "epoch 1800 train loss 364925.12 test loss 357205.66\n",
      "epoch 1810 train loss 363460.94 test loss 356431.4\n",
      "epoch 1820 train loss 362016.34 test loss 355636.5\n",
      "epoch 1830 train loss 360584.25 test loss 354843.44\n",
      "epoch 1840 train loss 359160.25 test loss 354047.2\n",
      "epoch 1850 train loss 357752.28 test loss 353252.44\n",
      "epoch 1860 train loss 356351.78 test loss 352458.0\n",
      "epoch 1870 train loss 354926.16 test loss 351649.7\n",
      "epoch 1880 train loss 353488.28 test loss 350826.06\n",
      "epoch 1890 train loss 352059.78 test loss 349999.5\n",
      "epoch 1900 train loss 350645.62 test loss 349151.06\n",
      "epoch 1910 train loss 349247.28 test loss 348304.2\n",
      "epoch 1920 train loss 347864.88 test loss 347460.06\n",
      "epoch 1930 train loss 346486.62 test loss 346614.3\n",
      "epoch 1940 train loss 345119.34 test loss 345766.47\n",
      "epoch 1950 train loss 343766.25 test loss 344920.56\n",
      "epoch 1960 train loss 342427.72 test loss 344077.47\n",
      "epoch 1970 train loss 341103.8 test loss 343237.2\n",
      "epoch 1980 train loss 339794.2 test loss 342399.25\n",
      "epoch 1990 train loss 338498.72 test loss 341563.38\n",
      "epoch 2000 train loss 337200.0 test loss 340726.16\n",
      "epoch 2010 train loss 335883.1 test loss 339878.44\n",
      "epoch 2020 train loss 334550.03 test loss 339022.5\n",
      "epoch 2030 train loss 333222.53 test loss 338164.0\n",
      "epoch 2040 train loss 331905.8 test loss 337306.03\n",
      "epoch 2050 train loss 330601.6 test loss 336449.53\n",
      "epoch 2060 train loss 329310.34 test loss 335594.8\n",
      "epoch 2070 train loss 328031.88 test loss 334741.62\n",
      "epoch 2080 train loss 326766.1 test loss 333890.1\n",
      "epoch 2090 train loss 325512.8 test loss 333040.06\n",
      "epoch 2100 train loss 324271.84 test loss 332191.44\n",
      "epoch 2110 train loss 323039.25 test loss 331344.16\n",
      "epoch 2120 train loss 321793.34 test loss 330493.22\n",
      "epoch 2130 train loss 320543.53 test loss 329638.72\n",
      "epoch 2140 train loss 319301.38 test loss 328783.97\n",
      "epoch 2150 train loss 318066.47 test loss 327930.28\n",
      "epoch 2160 train loss 316827.97 test loss 327075.78\n",
      "epoch 2170 train loss 315597.94 test loss 326221.66\n",
      "epoch 2180 train loss 314379.1 test loss 325369.12\n",
      "epoch 2190 train loss 313172.0 test loss 324518.38\n",
      "epoch 2200 train loss 311968.38 test loss 323668.8\n",
      "epoch 2210 train loss 310767.78 test loss 322818.7\n",
      "epoch 2220 train loss 309546.06 test loss 321962.22\n",
      "epoch 2230 train loss 308311.4 test loss 321091.7\n",
      "epoch 2240 train loss 307083.25 test loss 320217.8\n",
      "epoch 2250 train loss 305865.72 test loss 319344.78\n",
      "epoch 2260 train loss 304660.16 test loss 318474.06\n",
      "epoch 2270 train loss 303466.94 test loss 317606.0\n",
      "epoch 2280 train loss 302286.12 test loss 316740.9\n",
      "epoch 2290 train loss 301117.66 test loss 315878.8\n",
      "epoch 2300 train loss 299961.44 test loss 315019.7\n",
      "epoch 2310 train loss 298804.34 test loss 314162.3\n",
      "epoch 2320 train loss 297617.34 test loss 313300.8\n",
      "epoch 2330 train loss 296404.75 test loss 312431.44\n",
      "epoch 2340 train loss 295197.12 test loss 311561.53\n",
      "epoch 2350 train loss 293992.44 test loss 310692.44\n",
      "epoch 2360 train loss 292784.5 test loss 309815.75\n",
      "epoch 2370 train loss 291545.3 test loss 308925.72\n",
      "epoch 2380 train loss 290221.22 test loss 307988.9\n",
      "epoch 2390 train loss 288841.03 test loss 306994.2\n",
      "epoch 2400 train loss 287462.12 test loss 305957.88\n",
      "epoch 2410 train loss 286083.72 test loss 304877.38\n",
      "epoch 2420 train loss 284687.12 test loss 303770.3\n",
      "epoch 2430 train loss 283296.84 test loss 302666.88\n",
      "epoch 2440 train loss 281914.6 test loss 301572.28\n",
      "epoch 2450 train loss 280538.9 test loss 300484.88\n",
      "epoch 2460 train loss 279171.12 test loss 299361.12\n",
      "epoch 2470 train loss 277809.66 test loss 298193.9\n",
      "epoch 2480 train loss 276461.75 test loss 297031.25\n",
      "epoch 2490 train loss 275134.0 test loss 295872.6\n",
      "epoch 2500 train loss 273827.78 test loss 294715.94\n",
      "epoch 2510 train loss 272531.7 test loss 293570.88\n",
      "epoch 2520 train loss 271245.03 test loss 292394.5\n",
      "epoch 2530 train loss 269977.47 test loss 291226.0\n",
      "epoch 2540 train loss 268729.75 test loss 290071.7\n",
      "epoch 2550 train loss 267477.38 test loss 288925.03\n",
      "epoch 2560 train loss 266194.38 test loss 287762.78\n",
      "epoch 2570 train loss 264879.12 test loss 286589.94\n",
      "epoch 2580 train loss 263561.72 test loss 285410.7\n",
      "epoch 2590 train loss 262213.47 test loss 284225.97\n",
      "epoch 2600 train loss 260860.11 test loss 283033.12\n",
      "epoch 2610 train loss 259516.25 test loss 281835.62\n",
      "epoch 2620 train loss 258073.25 test loss 280582.3\n",
      "epoch 2630 train loss 256595.33 test loss 279278.3\n",
      "epoch 2640 train loss 255128.95 test loss 277982.03\n",
      "epoch 2650 train loss 253680.52 test loss 276701.0\n",
      "epoch 2660 train loss 252258.77 test loss 275439.75\n",
      "epoch 2670 train loss 250865.44 test loss 274155.5\n",
      "epoch 2680 train loss 249499.1 test loss 272823.47\n",
      "epoch 2690 train loss 248126.08 test loss 271480.34\n",
      "epoch 2700 train loss 246641.92 test loss 270067.72\n",
      "epoch 2710 train loss 245042.19 test loss 268524.62\n",
      "epoch 2720 train loss 243432.0 test loss 266972.84\n",
      "epoch 2730 train loss 241766.94 test loss 265432.12\n",
      "epoch 2740 train loss 239996.06 test loss 263877.88\n",
      "epoch 2750 train loss 238077.39 test loss 262312.84\n",
      "epoch 2760 train loss 236080.89 test loss 260746.4\n",
      "epoch 2770 train loss 234107.78 test loss 259206.47\n",
      "epoch 2780 train loss 232175.89 test loss 257698.6\n",
      "epoch 2790 train loss 230252.7 test loss 256215.12\n",
      "epoch 2800 train loss 228176.61 test loss 254724.92\n",
      "epoch 2810 train loss 225965.69 test loss 253198.3\n",
      "epoch 2820 train loss 223758.7 test loss 251618.97\n",
      "epoch 2830 train loss 221562.47 test loss 250056.55\n",
      "epoch 2840 train loss 219224.78 test loss 248501.75\n",
      "epoch 2850 train loss 216763.88 test loss 246949.62\n",
      "epoch 2860 train loss 214158.14 test loss 245357.94\n",
      "epoch 2870 train loss 211463.45 test loss 243711.05\n",
      "epoch 2880 train loss 208788.89 test loss 241851.33\n",
      "epoch 2890 train loss 206155.72 test loss 239571.64\n",
      "epoch 2900 train loss 203592.06 test loss 237217.06\n",
      "epoch 2910 train loss 201084.05 test loss 234934.47\n",
      "epoch 2920 train loss 198640.42 test loss 232728.05\n",
      "epoch 2930 train loss 196032.95 test loss 230547.97\n",
      "epoch 2940 train loss 193323.0 test loss 228365.3\n",
      "epoch 2950 train loss 190649.03 test loss 226223.28\n",
      "epoch 2960 train loss 188023.92 test loss 224131.05\n",
      "epoch 2970 train loss 185472.47 test loss 222104.73\n",
      "epoch 2980 train loss 182898.92 test loss 220132.67\n",
      "epoch 2990 train loss 180266.2 test loss 218176.44\n",
      "epoch 3000 train loss 177671.16 test loss 216264.06\n",
      "epoch 3010 train loss 175139.5 test loss 214422.0\n",
      "epoch 3020 train loss 172693.23 test loss 212641.73\n",
      "epoch 3030 train loss 170324.58 test loss 210909.23\n",
      "epoch 3040 train loss 168061.44 test loss 209243.19\n",
      "epoch 3050 train loss 165888.61 test loss 207635.78\n",
      "epoch 3060 train loss 163816.02 test loss 206085.94\n",
      "epoch 3070 train loss 161849.03 test loss 204600.36\n",
      "epoch 3080 train loss 159982.38 test loss 203131.62\n",
      "epoch 3090 train loss 158210.02 test loss 201664.72\n",
      "epoch 3100 train loss 156526.6 test loss 200240.06\n",
      "epoch 3110 train loss 154927.84 test loss 198787.23\n",
      "epoch 3120 train loss 153409.2 test loss 197400.38\n",
      "epoch 3130 train loss 151966.2 test loss 196075.9\n",
      "epoch 3140 train loss 150594.61 test loss 194794.0\n",
      "epoch 3150 train loss 149290.39 test loss 193544.81\n",
      "epoch 3160 train loss 148055.23 test loss 192350.78\n",
      "epoch 3170 train loss 146882.47 test loss 191208.88\n",
      "epoch 3180 train loss 145767.16 test loss 190114.66\n",
      "epoch 3190 train loss 144706.08 test loss 189065.75\n",
      "epoch 3200 train loss 143696.0 test loss 188060.23\n",
      "epoch 3210 train loss 142726.98 test loss 187095.0\n",
      "epoch 3220 train loss 141794.7 test loss 186164.73\n",
      "epoch 3230 train loss 140908.8 test loss 185275.08\n",
      "epoch 3240 train loss 140065.58 test loss 184417.5\n",
      "epoch 3250 train loss 139263.92 test loss 183569.38\n",
      "epoch 3260 train loss 138500.52 test loss 182751.69\n",
      "epoch 3270 train loss 137762.03 test loss 181959.06\n",
      "epoch 3280 train loss 137055.38 test loss 181195.19\n",
      "epoch 3290 train loss 136373.23 test loss 180463.34\n",
      "epoch 3300 train loss 135710.94 test loss 179766.48\n",
      "epoch 3310 train loss 135074.44 test loss 179112.64\n",
      "epoch 3320 train loss 134463.9 test loss 178499.75\n",
      "epoch 3330 train loss 133879.11 test loss 177913.9\n",
      "epoch 3340 train loss 133322.16 test loss 177356.3\n",
      "epoch 3350 train loss 132790.9 test loss 176824.12\n",
      "epoch 3360 train loss 132281.55 test loss 176313.92\n",
      "epoch 3370 train loss 131792.22 test loss 175823.0\n",
      "epoch 3380 train loss 131319.45 test loss 175315.56\n",
      "epoch 3390 train loss 130859.71 test loss 174825.58\n",
      "epoch 3400 train loss 130415.664 test loss 174355.52\n",
      "epoch 3410 train loss 129982.84 test loss 173903.97\n",
      "epoch 3420 train loss 129558.59 test loss 173414.81\n",
      "epoch 3430 train loss 129147.11 test loss 172939.8\n",
      "epoch 3440 train loss 128748.48 test loss 172483.23\n"
     ]
    },
    {
     "name": "stdout",
     "output_type": "stream",
     "text": [
      "epoch 3450 train loss 128363.68 test loss 172046.2\n",
      "epoch 3460 train loss 127991.56 test loss 171614.88\n",
      "epoch 3470 train loss 127631.61 test loss 171199.1\n",
      "epoch 3480 train loss 127282.875 test loss 170772.28\n",
      "epoch 3490 train loss 126946.73 test loss 170366.19\n",
      "epoch 3500 train loss 126620.75 test loss 169977.66\n",
      "epoch 3510 train loss 126302.78 test loss 169601.25\n",
      "epoch 3520 train loss 125989.234 test loss 169222.36\n",
      "epoch 3530 train loss 125686.14 test loss 168855.39\n",
      "epoch 3540 train loss 125397.26 test loss 168503.31\n",
      "epoch 3550 train loss 125117.17 test loss 168164.38\n",
      "epoch 3560 train loss 124841.84 test loss 167835.66\n",
      "epoch 3570 train loss 124565.43 test loss 167513.34\n",
      "epoch 3580 train loss 124288.51 test loss 167204.28\n",
      "epoch 3590 train loss 124002.51 test loss 166893.56\n",
      "epoch 3600 train loss 123714.086 test loss 166582.08\n",
      "epoch 3610 train loss 123428.98 test loss 166274.64\n",
      "epoch 3620 train loss 123139.62 test loss 165976.03\n",
      "epoch 3630 train loss 122850.17 test loss 165688.94\n",
      "epoch 3640 train loss 122557.16 test loss 165411.94\n",
      "epoch 3650 train loss 122266.305 test loss 165136.17\n",
      "epoch 3660 train loss 121979.27 test loss 164867.0\n",
      "epoch 3670 train loss 121696.37 test loss 164603.22\n",
      "epoch 3680 train loss 121417.62 test loss 164345.12\n",
      "epoch 3690 train loss 121142.81 test loss 164091.06\n",
      "epoch 3700 train loss 120871.83 test loss 163847.31\n",
      "epoch 3710 train loss 120604.47 test loss 163623.88\n",
      "epoch 3720 train loss 120340.6 test loss 163408.16\n",
      "epoch 3730 train loss 120072.945 test loss 163202.25\n",
      "epoch 3740 train loss 119797.91 test loss 163010.45\n",
      "epoch 3750 train loss 119520.03 test loss 162829.64\n",
      "epoch 3760 train loss 119243.68 test loss 162656.47\n",
      "epoch 3770 train loss 118969.99 test loss 162490.61\n",
      "epoch 3780 train loss 118695.61 test loss 162326.78\n",
      "epoch 3790 train loss 118423.23 test loss 162160.05\n",
      "epoch 3800 train loss 118152.47 test loss 161986.47\n",
      "epoch 3810 train loss 117879.91 test loss 161821.81\n",
      "epoch 3820 train loss 117609.02 test loss 161665.95\n",
      "epoch 3830 train loss 117340.62 test loss 161513.12\n",
      "epoch 3840 train loss 117074.89 test loss 161365.72\n",
      "epoch 3850 train loss 116811.86 test loss 161224.9\n",
      "epoch 3860 train loss 116528.5 test loss 161096.45\n",
      "epoch 3870 train loss 116219.53 test loss 160985.62\n",
      "epoch 3880 train loss 115905.97 test loss 160876.88\n",
      "epoch 3890 train loss 115594.96 test loss 160764.44\n",
      "epoch 3900 train loss 115291.26 test loss 160649.9\n",
      "epoch 3910 train loss 114988.56 test loss 160530.58\n",
      "epoch 3920 train loss 114686.6 test loss 160416.0\n",
      "epoch 3930 train loss 114373.336 test loss 160319.16\n",
      "epoch 3940 train loss 114061.664 test loss 160234.44\n",
      "epoch 3950 train loss 113752.99 test loss 160152.84\n",
      "epoch 3960 train loss 113447.695 test loss 160068.0\n",
      "epoch 3970 train loss 113145.695 test loss 159935.81\n",
      "epoch 3980 train loss 112822.32 test loss 159747.72\n",
      "epoch 3990 train loss 112384.69 test loss 159497.75\n",
      "epoch 4000 train loss 111928.93 test loss 159238.83\n",
      "epoch 4010 train loss 111500.86 test loss 159001.12\n",
      "epoch 4020 train loss 111090.445 test loss 158789.72\n",
      "epoch 4030 train loss 110695.01 test loss 158599.25\n",
      "epoch 4040 train loss 110312.32 test loss 158423.23\n",
      "epoch 4050 train loss 109944.37 test loss 158253.5\n",
      "epoch 4060 train loss 109591.73 test loss 158097.92\n",
      "epoch 4070 train loss 109248.336 test loss 157938.94\n",
      "epoch 4080 train loss 108912.58 test loss 157766.03\n",
      "epoch 4090 train loss 108583.56 test loss 157595.19\n",
      "epoch 4100 train loss 108267.695 test loss 157426.22\n",
      "epoch 4110 train loss 107976.086 test loss 157255.31\n",
      "epoch 4120 train loss 107693.19 test loss 157102.22\n",
      "epoch 4130 train loss 107409.555 test loss 156978.84\n",
      "epoch 4140 train loss 107115.234 test loss 156868.67\n",
      "epoch 4150 train loss 106823.67 test loss 156758.38\n",
      "epoch 4160 train loss 106541.82 test loss 156623.8\n",
      "epoch 4170 train loss 106265.04 test loss 156469.25\n",
      "epoch 4180 train loss 105992.45 test loss 156309.9\n",
      "epoch 4190 train loss 105732.6 test loss 156147.45\n",
      "epoch 4200 train loss 105487.76 test loss 155980.44\n",
      "epoch 4210 train loss 105254.86 test loss 155815.06\n",
      "epoch 4220 train loss 105023.04 test loss 155658.81\n",
      "epoch 4230 train loss 104787.38 test loss 155517.75\n",
      "epoch 4240 train loss 104553.07 test loss 155388.97\n",
      "epoch 4250 train loss 104320.09 test loss 155267.89\n",
      "epoch 4260 train loss 104089.46 test loss 155152.67\n",
      "epoch 4270 train loss 103872.35 test loss 155038.88\n",
      "epoch 4280 train loss 103660.125 test loss 154928.97\n",
      "epoch 4290 train loss 103451.125 test loss 154826.66\n",
      "epoch 4300 train loss 103244.77 test loss 154732.62\n",
      "epoch 4310 train loss 103040.77 test loss 154646.06\n",
      "epoch 4320 train loss 102838.95 test loss 154565.97\n",
      "epoch 4330 train loss 102639.28 test loss 154490.27\n",
      "epoch 4340 train loss 102441.65 test loss 154418.53\n",
      "epoch 4350 train loss 102246.055 test loss 154350.27\n",
      "epoch 4360 train loss 102052.42 test loss 154284.44\n",
      "epoch 4370 train loss 101860.73 test loss 154221.22\n",
      "epoch 4380 train loss 101670.945 test loss 154160.19\n",
      "epoch 4390 train loss 101483.016 test loss 154101.34\n",
      "epoch 4400 train loss 101297.23 test loss 154046.12\n",
      "epoch 4410 train loss 101113.42 test loss 153996.36\n",
      "epoch 4420 train loss 100931.41 test loss 153948.12\n",
      "epoch 4430 train loss 100751.11 test loss 153900.34\n",
      "epoch 4440 train loss 100572.664 test loss 153852.6\n",
      "epoch 4450 train loss 100396.27 test loss 153806.73\n",
      "epoch 4460 train loss 100221.58 test loss 153762.23\n",
      "epoch 4470 train loss 100048.55 test loss 153719.4\n",
      "epoch 4480 train loss 99877.09 test loss 153678.11\n",
      "epoch 4490 train loss 99707.234 test loss 153638.3\n",
      "epoch 4500 train loss 99539.11 test loss 153599.9\n",
      "epoch 4510 train loss 99377.23 test loss 153565.86\n",
      "epoch 4520 train loss 99217.875 test loss 153535.62\n",
      "epoch 4530 train loss 99060.19 test loss 153503.78\n",
      "epoch 4540 train loss 98903.945 test loss 153473.56\n",
      "epoch 4550 train loss 98748.98 test loss 153444.23\n",
      "epoch 4560 train loss 98595.26 test loss 153416.0\n",
      "epoch 4570 train loss 98442.77 test loss 153388.22\n",
      "epoch 4580 train loss 98291.484 test loss 153360.97\n",
      "epoch 4590 train loss 98141.1 test loss 153332.55\n",
      "epoch 4600 train loss 97991.49 test loss 153300.39\n",
      "epoch 4610 train loss 97842.95 test loss 153267.75\n",
      "epoch 4620 train loss 97695.56 test loss 153235.77\n",
      "epoch 4630 train loss 97549.32 test loss 153204.67\n",
      "epoch 4640 train loss 97404.18 test loss 153174.52\n",
      "epoch 4650 train loss 97260.18 test loss 153145.36\n",
      "epoch 4660 train loss 97117.29 test loss 153117.25\n",
      "epoch 4670 train loss 96975.516 test loss 153090.05\n",
      "epoch 4680 train loss 96834.805 test loss 153063.78\n",
      "epoch 4690 train loss 96695.19 test loss 153038.47\n",
      "epoch 4700 train loss 96556.65 test loss 153014.03\n",
      "epoch 4710 train loss 96419.23 test loss 152988.34\n",
      "epoch 4720 train loss 96282.836 test loss 152963.0\n",
      "epoch 4730 train loss 96147.52 test loss 152940.55\n",
      "epoch 4740 train loss 96013.26 test loss 152919.88\n",
      "epoch 4750 train loss 95880.01 test loss 152900.28\n",
      "epoch 4760 train loss 95747.78 test loss 152881.72\n",
      "epoch 4770 train loss 95616.56 test loss 152863.92\n",
      "epoch 4780 train loss 95486.32 test loss 152846.95\n",
      "epoch 4790 train loss 95357.64 test loss 152831.33\n",
      "epoch 4800 train loss 95232.89 test loss 152846.9\n",
      "epoch 4810 train loss 95109.81 test loss 152876.28\n",
      "epoch 4820 train loss 94988.01 test loss 152900.28\n",
      "epoch 4830 train loss 94867.37 test loss 152914.75\n",
      "epoch 4840 train loss 94747.695 test loss 152921.39\n",
      "epoch 4850 train loss 94628.984 test loss 152922.88\n",
      "epoch 4860 train loss 94511.25 test loss 152921.67\n",
      "epoch 4870 train loss 94394.47 test loss 152919.38\n",
      "epoch 4880 train loss 94278.62 test loss 152916.75\n",
      "epoch 4890 train loss 94163.67 test loss 152914.06\n",
      "epoch 4900 train loss 94049.6 test loss 152911.38\n",
      "epoch 4910 train loss 93936.44 test loss 152908.7\n",
      "epoch 4920 train loss 93824.15 test loss 152905.9\n",
      "epoch 4930 train loss 93712.72 test loss 152903.17\n",
      "epoch 4940 train loss 93602.15 test loss 152900.34\n",
      "epoch 4950 train loss 93492.4 test loss 152897.56\n",
      "epoch 4960 train loss 93383.61 test loss 152894.66\n",
      "epoch 4970 train loss 93276.2 test loss 152889.53\n",
      "epoch 4980 train loss 93169.695 test loss 152884.6\n",
      "epoch 4990 train loss 93064.01 test loss 152881.72\n"
     ]
    }
   ],
   "source": [
    "init = tf.global_variables_initializer()\n",
    "\n",
    "train_errs = []\n",
    "test_errs = []\n",
    "with tf.Session() as sess:\n",
    "    init.run()\n",
    "    \n",
    "    for epoch in range(5000):\n",
    "        # training is here\n",
    "        sess.run(training_run, feed_dict={X: X_train, y: y_train})\n",
    "        \n",
    "        # Calculate train loss\n",
    "        train_loss = sess.run(loss, feed_dict={X: X_train, y: y_train})\n",
    "        train_errs.append(train_loss)\n",
    "        \n",
    "        # Calculate test loss\n",
    "        test_loss = sess.run(loss, feed_dict={X: X_test, y: y_test})\n",
    "        test_errs.append(test_loss)\n",
    "        \n",
    "        # Print losses\n",
    "        if epoch %10==0:\n",
    "            print('epoch', epoch, 'train loss', train_loss, 'test loss', test_loss)\n",
    "    pred = sess.run(output, feed_dict={X: X_test})"
   ]
  },
  {
   "cell_type": "code",
   "execution_count": 37,
   "metadata": {},
   "outputs": [
    {
     "data": {
      "text/plain": [
       "0.8505277889531616"
      ]
     },
     "execution_count": 37,
     "metadata": {},
     "output_type": "execute_result"
    }
   ],
   "source": [
    "# Evaluate r^2\n",
    "metrics.r2_score(y_test, pred)"
   ]
  },
  {
   "cell_type": "code",
   "execution_count": 38,
   "metadata": {},
   "outputs": [
    {
     "data": {
      "text/plain": [
       "[<matplotlib.lines.Line2D at 0x12c18f5f8>]"
      ]
     },
     "execution_count": 38,
     "metadata": {},
     "output_type": "execute_result"
    },
    {
     "data": {
      "image/png": "[encoded data removed]",
      "text/plain": [
       "<matplotlib.figure.Figure at 0x12c18fe10>"
      ]
     },
     "metadata": {},
     "output_type": "display_data"
    }
   ],
   "source": [
    "# Plot the learning curves\n",
    "plt.plot(train_errs, label='Train loss')\n",
    "plt.plot(test_errs, label=\"Test loss\")"
   ]
  },
  {
   "cell_type": "code",
   "execution_count": 39,
   "metadata": {},
   "outputs": [],
   "source": [
    "from sklearn.metrics import mean_squared_error"
   ]
  },
  {
   "cell_type": "code",
   "execution_count": 3,
   "metadata": {},
   "outputs": [],
   "source": [
    "\n",
    "\n",
    "#---------------        Mean Squared Error     ------------------\n",
    "\n"
   ]
  },
  {
   "cell_type": "code",
   "execution_count": 41,
   "metadata": {},
   "outputs": [
    {
     "data": {
      "text/plain": [
       "152880.94452557064"
      ]
     },
     "execution_count": 41,
     "metadata": {},
     "output_type": "execute_result"
    }
   ],
   "source": [
    "mean_squared_error(y_test, pred)"
   ]
  },
  {
   "cell_type": "code",
   "execution_count": 43,
   "metadata": {},
   "outputs": [
    {
     "data": {
      "text/plain": [
       "987.3329"
      ]
     },
     "execution_count": 43,
     "metadata": {},
     "output_type": "execute_result"
    }
   ],
   "source": [
    "import numpy as np\n",
    "np.std(pred)"
   ]
  },
  {
   "cell_type": "code",
   "execution_count": 44,
   "metadata": {},
   "outputs": [
    {
     "data": {
      "text/plain": [
       "1011.338287535846"
      ]
     },
     "execution_count": 44,
     "metadata": {},
     "output_type": "execute_result"
    }
   ],
   "source": [
    "np.std(y_test)"
   ]
  },
  {
   "cell_type": "code",
   "execution_count": 47,
   "metadata": {},
   "outputs": [
    {
     "name": "stderr",
     "output_type": "stream",
     "text": [
      "/Users/enkhbat/miniconda3/lib/python3.6/site-packages/numpy/lib/function_base.py:2522: RuntimeWarning: Degrees of freedom <= 0 for slice\n",
      "  c = cov(x, y, rowvar)\n",
      "/Users/enkhbat/miniconda3/lib/python3.6/site-packages/numpy/lib/function_base.py:2451: RuntimeWarning: divide by zero encountered in true_divide\n",
      "  c *= np.true_divide(1, fact)\n",
      "/Users/enkhbat/miniconda3/lib/python3.6/site-packages/numpy/lib/function_base.py:2451: RuntimeWarning: invalid value encountered in multiply\n",
      "  c *= np.true_divide(1, fact)\n"
     ]
    },
    {
     "data": {
      "text/plain": [
       "nan"
      ]
     },
     "execution_count": 47,
     "metadata": {},
     "output_type": "execute_result"
    }
   ],
   "source": [
    "np.corrcoef(y_test, pred)[0, 1]"
   ]
  },
  {
   "cell_type": "code",
   "execution_count": 52,
   "metadata": {},
   "outputs": [
    {
     "data": {
      "text/plain": [
       "TensorShape([Dimension(None), Dimension(1)])"
      ]
     },
     "execution_count": 52,
     "metadata": {},
     "output_type": "execute_result"
    }
   ],
   "source": [
    "output.shape"
   ]
  },
  {
   "cell_type": "code",
   "execution_count": 55,
   "metadata": {},
   "outputs": [
    {
     "data": {
      "text/plain": [
       "<matplotlib.collections.PathCollection at 0x12e91de10>"
      ]
     },
     "execution_count": 55,
     "metadata": {},
     "output_type": "execute_result"
    },
    {
     "data": {
      "image/png": "[encoded data removed]",
      "text/plain": [
       "<matplotlib.figure.Figure at 0x12e990b00>"
      ]
     },
     "metadata": {},
     "output_type": "display_data"
    }
   ],
   "source": [
    "\n",
    "plt.scatter(y_test, pred, alpha=.9, s=1)"
   ]
  },
  {
   "cell_type": "code",
   "execution_count": null,
   "metadata": {},
   "outputs": [],
   "source": []
  }
 ],
 "metadata": {
  "kernelspec": {
   "display_name": "Python 3",
   "language": "python",
   "name": "python3"
  },
  "language_info": {
   "codemirror_mode": {
    "name": "ipython",
    "version": 3
   },
   "file_extension": ".py",
   "mimetype": "text/x-python",
   "name": "python",
   "nbconvert_exporter": "python",
   "pygments_lexer": "ipython3",
   "version": "3.6.3"
  }
 },
 "nbformat": 4,
 "nbformat_minor": 2
}
